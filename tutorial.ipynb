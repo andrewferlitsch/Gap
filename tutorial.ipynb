{
 "cells": [
  {
   "cell_type": "code",
   "execution_count": 1,
   "metadata": {},
   "outputs": [
    {
     "name": "stdout",
     "output_type": "stream",
     "text": [
      "\u001b[0m\u001b[01;32mLICENSE\u001b[0m*      \u001b[01;32mflower.jpg\u001b[0m*      \u001b[01;32mreport.ipynb\u001b[0m*       \u001b[34;42mtests\u001b[0m/\r\n",
      "\u001b[01;32mREADME.md\u001b[0m*    \u001b[01;32mflower2.h5\u001b[0m*      \u001b[01;32mrequirements.txt\u001b[0m*   \u001b[34;42mtools\u001b[0m/\r\n",
      "\u001b[34;42m__pycache__\u001b[0m/  \u001b[01;32mflower2.jpg\u001b[0m*     \u001b[01;32msessionHeck.ipynb\u001b[0m*  \u001b[34;42mtrain\u001b[0m/\r\n",
      "\u001b[34;42mbuild\u001b[0m/        \u001b[34;42mflower_photos\u001b[0m/   \u001b[01;32msetup.py\u001b[0m*           \u001b[01;32mtutorial.ipynb\u001b[0m*\r\n",
      "\u001b[34;42mdist\u001b[0m/         \u001b[34;42mgapml\u001b[0m/           \u001b[34;42msite\u001b[0m/\r\n",
      "\u001b[34;42mdocs\u001b[0m/         \u001b[34;42mgapml.egg-info\u001b[0m/  \u001b[34;42mspecs\u001b[0m/\r\n",
      "\u001b[01;32mflower.h5\u001b[0m*    \u001b[01;32mmkdocs.yml\u001b[0m*      \u001b[34;42mtemplates\u001b[0m/\r\n"
     ]
    }
   ],
   "source": [
    "# Let's go the directory of the Gap Framework\"\n",
    "import os\n",
    "\n",
    "%ls"
   ]
  },
  {
   "cell_type": "code",
   "execution_count": 2,
   "metadata": {},
   "outputs": [
    {
     "name": "stdout",
     "output_type": "stream",
     "text": [
      "[nltk_data] Downloading package wordnet to /home/david/nltk_data...\n",
      "[nltk_data]   Package wordnet is already up-to-date!\n",
      "[nltk_data] Downloading package averaged_perceptron_tagger to\n",
      "[nltk_data]     /home/david/nltk_data...\n",
      "[nltk_data]   Package averaged_perceptron_tagger is already up-to-\n",
      "[nltk_data]       date!\n"
     ]
    }
   ],
   "source": [
    "# import the Gap Vision module\n",
    "from gapml.vision import Image, Images"
   ]
  },
  {
   "cell_type": "code",
   "execution_count": 3,
   "metadata": {},
   "outputs": [
    {
     "name": "stdout",
     "output_type": "stream",
     "text": [
      "\u001b[0m\u001b[01;32mLICENSE\u001b[0m*      \u001b[01;32mflower.jpg\u001b[0m*      \u001b[01;32mreport.ipynb\u001b[0m*       \u001b[34;42mtests\u001b[0m/\r\n",
      "\u001b[01;32mREADME.md\u001b[0m*    \u001b[01;32mflower2.h5\u001b[0m*      \u001b[01;32mrequirements.txt\u001b[0m*   \u001b[34;42mtools\u001b[0m/\r\n",
      "\u001b[34;42m__pycache__\u001b[0m/  \u001b[01;32mflower2.jpg\u001b[0m*     \u001b[01;32msessionHeck.ipynb\u001b[0m*  \u001b[34;42mtrain\u001b[0m/\r\n",
      "\u001b[34;42mbuild\u001b[0m/        \u001b[34;42mflower_photos\u001b[0m/   \u001b[01;32msetup.py\u001b[0m*           \u001b[01;32mtutorial.ipynb\u001b[0m*\r\n",
      "\u001b[34;42mdist\u001b[0m/         \u001b[34;42mgapml\u001b[0m/           \u001b[34;42msite\u001b[0m/\r\n",
      "\u001b[34;42mdocs\u001b[0m/         \u001b[34;42mgapml.egg-info\u001b[0m/  \u001b[34;42mspecs\u001b[0m/\r\n",
      "\u001b[01;32mflower.h5\u001b[0m*    \u001b[01;32mmkdocs.yml\u001b[0m*      \u001b[34;42mtemplates\u001b[0m/\r\n"
     ]
    }
   ],
   "source": [
    "import os\n",
    "#os.chdir(\"tut/\")\n",
    "%ls"
   ]
  },
  {
   "cell_type": "code",
   "execution_count": 4,
   "metadata": {},
   "outputs": [
    {
     "name": "stdout",
     "output_type": "stream",
     "text": [
      "Number of plane images:  4\n",
      "Name of plane image:  10_1\n",
      "Size of plane image:  22041\n",
      "Shape of plane image:  (399, 381, 3) \n",
      "\n",
      "Number of bird images:  5\n",
      "Name of bird image:  0_2\n",
      "Size of bird image:  29834\n",
      "Shape of bird image:  (399, 381, 3)\n"
     ]
    }
   ],
   "source": [
    "planes = Images(['train/tut_files/1'], 0, config=['nostore'])\n",
    "birds =  Images(['train/tut_files/2'], 1, config=['nostore'])\n",
    "\n",
    "birds._data[0].shape\n",
    "print('Number of plane images: ', len(planes))\n",
    "print('Name of plane image: ', planes._data[0].name)\n",
    "print('Size of plane image: ', planes._data[0].size)\n",
    "print('Shape of plane image: ', planes._data[0].shape,'\\n')\n",
    "\n",
    "print('Number of bird images: ', len(birds))\n",
    "print('Name of bird image: ', birds._data[0].name)\n",
    "print('Size of bird image: ', birds._data[0].size)\n",
    "print('Shape of bird image: ', birds._data[0].shape)"
   ]
  },
  {
   "cell_type": "code",
   "execution_count": 5,
   "metadata": {},
   "outputs": [],
   "source": [
    "\n",
    "images = Images(['train/tut_files/1','train/tut_files/2'], [0,1], config=['resize=(50,50)', 'nostore'], name='planes-birds')\n"
   ]
  },
  {
   "cell_type": "code",
   "execution_count": 14,
   "metadata": {},
   "outputs": [
    {
     "data": {
      "text/plain": [
       "[]"
      ]
     },
     "execution_count": 14,
     "metadata": {},
     "output_type": "execute_result"
    }
   ],
   "source": [
    "images.errors"
   ]
  },
  {
   "cell_type": "code",
   "execution_count": 7,
   "metadata": {},
   "outputs": [
    {
     "name": "stdout",
     "output_type": "stream",
     "text": [
      "Shape:  (50, 50, 3) Label:  0\n",
      "Shape:  (50, 50, 3) Label:  0\n",
      "planes-birds\n"
     ]
    }
   ],
   "source": [
    "from PIL import Image as pi\n",
    "print('Shape: ', images._data[0].shape, 'Label: ', images[0].label)\n",
    "print('Shape: ', images[0].shape, 'Label: ', images[0].label)\n",
    "print(images.name)"
   ]
  },
  {
   "cell_type": "code",
   "execution_count": 8,
   "metadata": {},
   "outputs": [],
   "source": [
    "images.augmentation = True"
   ]
  },
  {
   "cell_type": "code",
   "execution_count": 9,
   "metadata": {},
   "outputs": [
    {
     "data": {
      "text/plain": [
       "'from random import randint \\n\\nimages.augment = -350, 350, 3\\ncollect = []\\nimg = Images()\\ndata_set = Images()\\n\\nfor image in range(len(images)):\\n    while True:\\n        data, label = next(images)\\n        if data is None: break\\n        pass\\n'"
      ]
     },
     "execution_count": 9,
     "metadata": {},
     "output_type": "execute_result"
    }
   ],
   "source": [
    "'''from random import randint \n",
    "\n",
    "images.augment = -350, 350, 3\n",
    "collect = []\n",
    "img = Images()\n",
    "data_set = Images()\n",
    "\n",
    "for image in range(len(images)):\n",
    "    while True:\n",
    "        data, label = next(images)\n",
    "        if data is None: break\n",
    "        pass\n",
    "'''"
   ]
  },
  {
   "cell_type": "code",
   "execution_count": 10,
   "metadata": {},
   "outputs": [
    {
     "name": "stdout",
     "output_type": "stream",
     "text": [
      "Train count:  6 \n",
      " Test count:  3 \n",
      "\n",
      "x_train 6\n",
      "y_train 6\n",
      "x_test 3\n",
      "y_test 3\n"
     ]
    }
   ],
   "source": [
    "images.split = 0.30, 1258\n",
    "print('Train count: ',len(images._train),'\\n','Test count: ',len(images._test),'\\n')\n",
    "\n",
    "x_train, x_test, y_train, y_test = images.split\n",
    "\n",
    "print(\"x_train\", len(x_train))\n",
    "print(\"y_train\", len(y_train))\n",
    "print(\"x_test\", len(x_test))\n",
    "print(\"y_test\", len(y_test))"
   ]
  },
  {
   "cell_type": "code",
   "execution_count": 12,
   "metadata": {},
   "outputs": [
    {
     "data": {
      "image/png": "[encoded data removed]",
      "text/plain": [
       "<Figure size 864x864 with 4 Axes>"
      ]
     },
     "metadata": {},
     "output_type": "display_data"
    }
   ],
   "source": [
    "from matplotlib import pyplot as plt\n",
    "import cv2\n",
    "\n",
    "fig=plt.figure(figsize=(12, 12))\n",
    "columns = 2\n",
    "rows = 2\n",
    "for i in range(1, columns*rows +1):\n",
    "    img=x_train[i]\n",
    "    fig.add_subplot(rows, columns, i)\n",
    "    plt.axis('off')\n",
    "    plt.imshow(cv2.cvtColor(img, cv2.COLOR_BGR2RGB))\n",
    "plt.show()"
   ]
  },
  {
   "cell_type": "code",
   "execution_count": null,
   "metadata": {},
   "outputs": [],
   "source": [
    "\n",
    "# Each element in x_train list should be a numpy array\n",
    "print(type(x_train[0]))\n",
    "# Each element should be in the shape 50 x 50 pixels\n",
    "print(x_train[0].shape)\n",
    "print(x_train[2].shape)"
   ]
  },
  {
   "cell_type": "code",
   "execution_count": null,
   "metadata": {},
   "outputs": [],
   "source": [
    "# Each elment in y_train should be the label (integer)\n",
    "print(y_train[0])\n",
    "print(y_train[2])"
   ]
  },
  {
   "cell_type": "code",
   "execution_count": null,
   "metadata": {},
   "outputs": [],
   "source": [
    "'''\n",
    "import h5py\n",
    "hp = h5py.File('planes-birds.h5', 'r')\n",
    "hp.close()\n",
    "'''"
   ]
  },
  {
   "cell_type": "code",
   "execution_count": null,
   "metadata": {},
   "outputs": [],
   "source": [
    "'''\n",
    "hf = h5py.File('planes-birds.h5', 'w')\n",
    "hf.create_dataset('x_train', data=x_train)\n",
    "hf.create_dataset('x_test', data=x_test)\n",
    "hf.create_dataset('y_train', data=y_train)\n",
    "hf.create_dataset('y_test', data=y_test)\n",
    "hf.close()\n",
    "'''"
   ]
  },
  {
   "cell_type": "code",
   "execution_count": null,
   "metadata": {},
   "outputs": [],
   "source": [
    "'''\n",
    "hf = h5py.File('planes-birds.h5', 'r')\n",
    "xtrain = hf.get('x_train')\n",
    "ytrain = hf.get('y_train')\n",
    "xtest = hf.get('x_test')\n",
    "ytest = hf.get('y_test')\n",
    "'''"
   ]
  },
  {
   "cell_type": "code",
   "execution_count": null,
   "metadata": {},
   "outputs": [],
   "source": [
    "from keras.preprocessing.image import ImageDataGenerator, array_to_img, img_to_array, load_img\n",
    "from keras.models import Sequential\n",
    "from keras.layers import Conv2D, MaxPooling2D\n",
    "from keras.layers import Activation, Dropout, Flatten, Dense\n",
    "import h5py\n",
    "\n",
    "\n",
    "model = Sequential()\n",
    "model.add(Conv2D(32, (3, 3), input_shape=(399, 381, 3)))\n",
    "model.add(Activation('relu'))\n",
    "model.add(MaxPooling2D(pool_size=(2, 2)))\n",
    "\n",
    "model.add(Conv2D(32, (3, 3)))\n",
    "model.add(Activation('relu'))\n",
    "model.add(MaxPooling2D(pool_size=(2, 2)))\n",
    "\n",
    "model.add(Conv2D(64, (3, 3)))\n",
    "model.add(Activation('relu'))\n",
    "model.add(MaxPooling2D(pool_size=(2, 2)))\n",
    "model.add(Flatten())  # this converts our 3D feature maps to 1D feature vectors\n",
    "model.add(Dense(64))\n",
    "model.add(Activation('relu'))\n",
    "model.add(Dropout(0.5))\n",
    "model.add(Dense(2))\n",
    "model.add(Activation('sigmoid'))\n",
    "\n",
    "model.compile(loss='binary_crossentropy',\n",
    "              optimizer='rmsprop',\n",
    "              metrics=['accuracy'])\n",
    " \n",
    "model.fit(x_train, y_train, verbose=1, epochs=20, batch_size=32, shuffle=False, validation_data=(x_test,y_test))\n",
    "model.save_weights('first_try.h5') "
   ]
  },
  {
   "cell_type": "code",
   "execution_count": null,
   "metadata": {},
   "outputs": [],
   "source": [
    "#os.remove('planes-birds.h5')"
   ]
  },
  {
   "cell_type": "code",
   "execution_count": null,
   "metadata": {},
   "outputs": [],
   "source": []
  }
 ],
 "metadata": {
  "kernelspec": {
   "display_name": "Python 3",
   "language": "python",
   "name": "python3"
  },
  "language_info": {
   "codemirror_mode": {
    "name": "ipython",
    "version": 3
   },
   "file_extension": ".py",
   "mimetype": "text/x-python",
   "name": "python",
   "nbconvert_exporter": "python",
   "pygments_lexer": "ipython3",
   "version": "3.7.0"
  }
 },
 "nbformat": 4,
 "nbformat_minor": 2
}
