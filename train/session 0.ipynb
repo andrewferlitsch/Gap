{
 "cells": [
  {
   "cell_type": "markdown",
   "metadata": {},
   "source": [
    "# Gap (prelaunch) 0.9 - July 2018\n",
    "## NLP and CV Data Engineering Framework\n",
    "\n",
    "<b>[Github](https://github.com/andrewferlitsch/gap)</b>"
   ]
  },
  {
   "cell_type": "markdown",
   "metadata": {},
   "source": [
    "# Document Preparation for NLP\n",
    "\n",
    "## Applications (Open Source) Recommended\n",
    "\n",
    "1. Artifex's Ghostscript - extracting text from text PDF\n",
    "2. ImageMagic's Magick - extracting image from scanned PDF\n",
    "3. Google's Tesseract - OCR of scanned/image captured text\n",
    "4. NLTK Toolkit - Syntax Analysis/Parts of Speech\n",
    "\n",
    "### Github Account\n",
    "\n",
    "https://github.com/andrewferlitsch/epipog-nlp"
   ]
  },
  {
   "cell_type": "markdown",
   "metadata": {},
   "source": [
    "### Ghostscript\n",
    "\n",
    "1. Download link : https://www.ghostscript.com/download/gsdnld.html\n",
    "        \n",
    "    Use the Free Version<br/>\n",
    "\n",
    "    I have a 64bit Windows laptop, so I am using this version: Ghostscript 9.23 for Windows (64 bit).<br/><br/>\n",
    "\n",
    "2. Check if path to the program is in your PATH variable. \n",
    "\n",
    "    A. Open a command shell.<br/>\n",
    "    B. Type gswin64c in the command line.<br/>\n",
    "    C. If not found, add it to your path variable. For me, it is: C:\\Program Files\\gs\\gs9.23\\bin<br/>\n",
    "\n",
    "\n"
   ]
  },
  {
   "cell_type": "markdown",
   "metadata": {},
   "source": [
    "### Magick\n",
    "\n",
    "1. Download Link: https://www.imagemagick.org/script/download.php\n",
    "\n",
    "    Use the static version (dynamic is for DLL inclusion).<br/>\n",
    "    \n",
    "    Use the 8bits per pixel version.<br/>\n",
    "    \n",
    "    I have a 64bit Windows laptop, so I am using this version: ImageMagick-7.0.8-1-Q8-x64-static.exe<br/><br/>\n",
    "    \n",
    "2. Check if path to the program is in your PATH variable.\n",
    " \n",
    "    A. Open a command shell.<br/>\n",
    "    B. Type magick in the command line.<br/>\n",
    "    C. If not found, add it to your path variable. For me, it is: C:\\Program Files\\ImageMagic-7.0.8-Q8"
   ]
  },
  {
   "cell_type": "markdown",
   "metadata": {},
   "source": [
    "### Tesseract\n",
    "\n",
    "1. Download Link: https://github.com/tesseract-ocr/tesseract/wiki/Downloads\n",
    "\n",
    "    A. Make sure to add the English Language training data to the tessdata subdirectory where tesseract is installed.<br/><br/>\n",
    "\n",
    "2. Check if path to program is in your PATH variable:\n",
    "\n",
    "    A. Open a command shell.<br/>\n",
    "    B. Type tesseract in the command line.<br/>\n",
    "    C. If not found, add it your path variable. For me, it is C:\\Program Files\\tesseract-Win64\\<br/>\n",
    "    \n",
    "3. Install the English Training Data files as: C:\\Program Files\\tesseract-Win64\\tessdata\n",
    "\n",
    "    You can get a copy from my github account."
   ]
  },
  {
   "cell_type": "markdown",
   "metadata": {},
   "source": [
    "### NLTK Toolkit\n",
    "\n",
    "1. Documentation: http://www.nltk.org/\n",
    "\n",
    "\n",
    "2. Install NLTK using pip:\n",
    "\n",
    "    pip install nltk\n"
   ]
  },
  {
   "cell_type": "markdown",
   "metadata": {},
   "source": [
    "### Ghostscript Example: Extracting Text from Text PDF\n",
    "\n",
    "Let's try some examples with using Ghostscript and PDF documents.\n",
    "\n",
    "First, let's get the number of pages in the PDF. (yes, ghostscript's options are somewhat cryptic). We will do it on a 140 page file."
   ]
  },
  {
   "cell_type": "code",
   "execution_count": null,
   "metadata": {},
   "outputs": [],
   "source": [
    "import os\n",
    "os.chdir(\"../\")\n",
    "%ls"
   ]
  },
  {
   "cell_type": "code",
   "execution_count": null,
   "metadata": {},
   "outputs": [],
   "source": [
    "#use !gs on Linux\n",
    "!gswin64c -dBATCH -q -dNODISPLAY -c \"(\"tests/plan/afspa.pdf\") (r) file runpdfbegin pdfpagecount = quit\""
   ]
  },
  {
   "cell_type": "markdown",
   "metadata": {},
   "source": [
    "Let's now try to split a PDF into individual pages. In the command below, we tell Ghostscript to split out page 1. We could\n",
    "do this in a for loop and extract each page one at a time.\n",
    "\n",
    "Note that we set the output DEVICE to pdfwrite. This is the command to Ghostscript to output a PDF file."
   ]
  },
  {
   "cell_type": "code",
   "execution_count": null,
   "metadata": {},
   "outputs": [],
   "source": [
    "!gswin64c -dBATCH -dNOPAUSE -sOutputFile=\"tests/plan/afspa1.pdf\" -sPageList=1 -sDEVICE=pdfwrite \"tests/plan/afspa.pdf\""
   ]
  },
  {
   "cell_type": "markdown",
   "metadata": {},
   "source": [
    "Let's look at what is inside of the first PDF page. Is it text, a scanned image, a mix of text and images? We can guessimate this by looking at the PDF Resource directive inside of the PDF file.\n",
    "\n",
    "    /Text   -> Text\n",
    "    /ImageB -> B&W Image\n",
    "    /ImageC -> Color Image\n",
    "    /ImageI -> Indexed Image\n",
    "\n",
    "We will do this using Epipog's PDFResource object. We will also set the debug flag to output the version and PDF resources found to the standard output."
   ]
  },
  {
   "cell_type": "code",
   "execution_count": null,
   "metadata": {},
   "outputs": [],
   "source": [
    "# Import Epipog PDFResource class from the pdf_res module\n",
    "from gapml.pdf_res import PDFResource"
   ]
  },
  {
   "cell_type": "code",
   "execution_count": null,
   "metadata": {},
   "outputs": [],
   "source": [
    "res = PDFResource(\"tests/plan/afspa1.pdf\", debug=True)"
   ]
  },
  {
   "cell_type": "markdown",
   "metadata": {},
   "source": [
    "The PDFResource properties text and image will tell us if the PDF file contains text and/or images respectively."
   ]
  },
  {
   "cell_type": "code",
   "execution_count": null,
   "metadata": {},
   "outputs": [],
   "source": [
    "# Let's now check whether the page is a text PDF, scanned PDF, or mix text and images.\n",
    "print(res.text)\n",
    "print(res.image)"
   ]
  },
  {
   "cell_type": "markdown",
   "metadata": {},
   "source": [
    "Let's now extract the text from this single page PDF file using Ghostscript.\n",
    "\n",
    "Note that we set the output DEVICE to txtwrite. This is the command to Ghostscript to output a PDF file."
   ]
  },
  {
   "cell_type": "code",
   "execution_count": null,
   "metadata": {},
   "outputs": [],
   "source": [
    "!gswin64c -dBATCH -dNOPAUSE -sOutputFile=\"tests/plan/afspa1.txt\" -sPageList=1 -sDEVICE=txtwrite \"tests/plan/afspa1.pdf\""
   ]
  },
  {
   "cell_type": "code",
   "execution_count": null,
   "metadata": {
    "scrolled": true
   },
   "outputs": [],
   "source": [
    "# use !ls on linux\n",
    "!dir tests\\\\plan\\\\afspa*.pdf"
   ]
  },
  {
   "cell_type": "markdown",
   "metadata": {},
   "source": [
    "Let's try another PDF document, which will have an unexpected result - which I will explain."
   ]
  },
  {
   "cell_type": "code",
   "execution_count": null,
   "metadata": {},
   "outputs": [],
   "source": [
    "# Split page 1 from the PDF file\n",
    "!gswin64c -dBATCH -dNOPAUSE -sOutputFile=\"tests/plan/il1.pdf\" -sPageList=1 -sDEVICE=pdfwrite \"tests/plan/il.pdf\"\n",
    "\n",
    "# Extract the text from the PDF page\n",
    "!gswin64c -dBATCH -dNOPAUSE -sOutputFile=\"tests/plan/il1.txt\" -sPageList=1 -sDEVICE=txtwrite \"tests/plan/il1.pdf\""
   ]
  },
  {
   "cell_type": "markdown",
   "metadata": {},
   "source": [
    "Let's view the contents of the extracted text file.\n",
    "\n",
    "OMG. It's just a lot of unprintable ASCII control characters. What happened?\n",
    "\n",
    "The PDF Resource directive is just a hint. It doesn't mean that it is correct. So, in this case, this is really a scanned PDF."
   ]
  },
  {
   "cell_type": "code",
   "execution_count": null,
   "metadata": {},
   "outputs": [],
   "source": [
    "!notepad.exe tests\\\\plan\\\\il1.txt"
   ]
  },
  {
   "cell_type": "markdown",
   "metadata": {},
   "source": [
    "### Ghostscript/Tesseract Example:  Extract Text from Scanned PDF example\n",
    "\n",
    "So the il.pdf file appears to be a scanned PDF. So, let's extract the scanned page as a PNG image using Ghostscript.\n",
    "\n",
    "This time, we will set the output device to a grayscale PNG image. Ghostscript actually renders an image (vs. merely extract). This gives us an opportunity to tell Ghostscript the resolution of the generated image, which will affect the OCR quality. I good rule of thumb is 300dpi. I've found 72 and 150dpi give poor OCR, 200 is okay on many things, but 300 generally is good for all cases.\n"
   ]
  },
  {
   "cell_type": "code",
   "execution_count": null,
   "metadata": {},
   "outputs": [],
   "source": [
    "# Extract the scanned image from the PDF page\n",
    "!gswin64c -dBATCH -dNOPAUSE -sOutputFile=\"tests/plan/il1.png\" -sPageList=1 -sDEVICE=pnggray  -r300 \"tests/plan/il1.pdf\""
   ]
  },
  {
   "cell_type": "markdown",
   "metadata": {},
   "source": [
    "Now we will use Tesseract to extract the text from the PNG image."
   ]
  },
  {
   "cell_type": "code",
   "execution_count": null,
   "metadata": {},
   "outputs": [],
   "source": [
    "!tesseract \"tests/plan/il1.png\" \"tests/plan/il1\""
   ]
  },
  {
   "cell_type": "code",
   "execution_count": null,
   "metadata": {
    "scrolled": true
   },
   "outputs": [],
   "source": [
    "import matplotlib.pyplot as plt\n",
    "\n",
    "# This line is specific to python notebooks (not python). \n",
    "# It causes plots to automatically be rendered (displayed) without issuing a show command.\n",
    "%matplotlib inline\n",
    "\n",
    "# Importing OpenCV\n",
    "import cv2\n",
    "image = cv2.imread(\"tests/plan/il1.png\", 0)\n",
    "plt.imshow(image)"
   ]
  },
  {
   "cell_type": "code",
   "execution_count": null,
   "metadata": {},
   "outputs": [],
   "source": [
    "#clean dir\n",
    "os.remove('tests/plan/afspa1.pdf')\n",
    "os.remove('tests/plan/afspa1.txt')\n",
    "\n",
    "os.remove('tests/plan/il1.pdf')\n",
    "os.remove('tests/plan/il1.png')\n",
    "os.remove('tests/plan/il1.txt')"
   ]
  },
  {
   "cell_type": "markdown",
   "metadata": {},
   "source": [
    "## END OF SESSION 0"
   ]
  }
 ],
 "metadata": {
  "celltoolbar": "Edit Metadata",
  "kernelspec": {
   "display_name": "Python 3",
   "language": "python",
   "name": "python3"
  },
  "language_info": {
   "codemirror_mode": {
    "name": "ipython",
    "version": 3
   },
   "file_extension": ".py",
   "mimetype": "text/x-python",
   "name": "python",
   "nbconvert_exporter": "python",
   "pygments_lexer": "ipython3",
   "version": "3.7.0"
  }
 },
 "nbformat": 4,
 "nbformat_minor": 2
}
