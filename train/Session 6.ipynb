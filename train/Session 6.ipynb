{
 "cells": [
  {
   "cell_type": "markdown",
   "metadata": {},
   "source": [
    "# Image Utils"
   ]
  },
  {
   "cell_type": "markdown",
   "metadata": {},
   "source": [
    "The `img_utils` module alows users to manage images datasets (folders and images files) directly on your disk."
   ]
  },
  {
   "cell_type": "markdown",
   "metadata": {},
   "source": [
    "### Type Of Folder Trees\n",
    "\n",
    "#### tree = 1\n",
    "```\n",
    "[root_path] \"folder_name\"/..  \n",
    "    [subfolder] class_0/..  \n",
    "    [subfolder] class_1/..  \n",
    "    [subfolder] errors/..\n",
    "```\n",
    "\n",
    "#### tree = 2\n",
    "```\n",
    "[root_path] \"folder_name\"/..  \n",
    "    [subfolder] train_tr/..  \n",
    "        [subfolder] class_0/..  \n",
    "        [subfolder] class_1/..  \n",
    "    [subfolder] train_val/..  \n",
    "        [subfolder] class_0/..  \n",
    "        [subfolder] class_1/..  \n",
    "    [subfolder] test/test/..  \n",
    "    [subfolder] errors/..  \n",
    "```"
   ]
  },
  {
   "cell_type": "markdown",
   "metadata": {},
   "source": [
    "### impor `img_utils`"
   ]
  },
  {
   "cell_type": "code",
   "execution_count": 21,
   "metadata": {
    "scrolled": true
   },
   "outputs": [],
   "source": [
    "from gapml.utils.img_tools import img_utils\n",
    "import os"
   ]
  },
  {
   "cell_type": "code",
   "execution_count": 5,
   "metadata": {},
   "outputs": [],
   "source": [
    "# Proccess root_path = flower_photos\n",
    "gap = img_utils(root_path='flower_photos')"
   ]
  },
  {
   "cell_type": "code",
   "execution_count": 6,
   "metadata": {},
   "outputs": [
    {
     "data": {
      "text/plain": [
       "'/mnt/c/Users/david/github/gapml/Gap/train'"
      ]
     },
     "execution_count": 6,
     "metadata": {},
     "output_type": "execute_result"
    }
   ],
   "source": [
    "# current working directory path.\n",
    "%pwd"
   ]
  },
  {
   "cell_type": "code",
   "execution_count": 7,
   "metadata": {
    "scrolled": true
   },
   "outputs": [
    {
     "name": "stdout",
     "output_type": "stream",
     "text": [
      " \u001b[0m\u001b[01;32m10nc.pdf\u001b[0m*                  \u001b[01;32mboardgames.csv\u001b[0m*    \u001b[01;32m'session 3.ipynb'\u001b[0m*\r\n",
      " \u001b[01;32m4scan.pdf\u001b[0m*                 \u001b[01;32mcrash_2015.pdf\u001b[0m*    \u001b[01;32m'session 4.ipynb'\u001b[0m*\r\n",
      "\u001b[01;32m'NLP Epipog - I.pptx'\u001b[0m*      \u001b[34;42mflower_photos\u001b[0m/     \u001b[01;32m'session 5.ipynb'\u001b[0m*\r\n",
      "\u001b[01;32m'Roadmap - Gap 1.0.pptx'\u001b[0m*  \u001b[01;32m'session 0.ipynb'\u001b[0m*   \u001b[34;42mtut_files\u001b[0m/\r\n",
      "\u001b[01;32m'Session 6.ipynb'\u001b[0m*         \u001b[01;32m'session 1.ipynb'\u001b[0m*\r\n",
      "\u001b[01;32m'Train - Intro.pptx'\u001b[0m*      \u001b[01;32m'session 2.ipynb'\u001b[0m*\r\n"
     ]
    }
   ],
   "source": [
    "# current list directory contents\n",
    "%ls"
   ]
  },
  {
   "cell_type": "code",
   "execution_count": 8,
   "metadata": {},
   "outputs": [
    {
     "name": "stdout",
     "output_type": "stream",
     "text": [
      "\u001b[0m\u001b[34;42mdaisy\u001b[0m/  \u001b[34;42mdandelion\u001b[0m/  \u001b[34;42mroses\u001b[0m/  \u001b[34;42msunflowers\u001b[0m/  \u001b[34;42mtulips\u001b[0m/\r\n"
     ]
    }
   ],
   "source": [
    "# root_path labels directory contents\n",
    "%ls flower_photos/"
   ]
  },
  {
   "cell_type": "code",
   "execution_count": 11,
   "metadata": {},
   "outputs": [],
   "source": [
    "# transform directoies between tree 1 to tree 2\n",
    "gap.transform(shufle=True, img_split=0.2)"
   ]
  },
  {
   "cell_type": "code",
   "execution_count": 12,
   "metadata": {},
   "outputs": [
    {
     "name": "stdout",
     "output_type": "stream",
     "text": [
      " \u001b[0m\u001b[01;32m10nc.pdf\u001b[0m*                  \u001b[01;32mboardgames.csv\u001b[0m*    \u001b[01;32m'session 3.ipynb'\u001b[0m*\r\n",
      " \u001b[01;32m4scan.pdf\u001b[0m*                 \u001b[01;32mcrash_2015.pdf\u001b[0m*    \u001b[01;32m'session 4.ipynb'\u001b[0m*\r\n",
      "\u001b[01;32m'NLP Epipog - I.pptx'\u001b[0m*      \u001b[34;42mflower_photos_t2\u001b[0m/  \u001b[01;32m'session 5.ipynb'\u001b[0m*\r\n",
      "\u001b[01;32m'Roadmap - Gap 1.0.pptx'\u001b[0m*  \u001b[01;32m'session 0.ipynb'\u001b[0m*   \u001b[34;42mtut_files\u001b[0m/\r\n",
      "\u001b[01;32m'Session 6.ipynb'\u001b[0m*         \u001b[01;32m'session 1.ipynb'\u001b[0m*\r\n",
      "\u001b[01;32m'Train - Intro.pptx'\u001b[0m*      \u001b[01;32m'session 2.ipynb'\u001b[0m*\r\n"
     ]
    }
   ],
   "source": [
    "# notice the new folder flower_photos_t2\n",
    "%ls"
   ]
  },
  {
   "cell_type": "code",
   "execution_count": 13,
   "metadata": {},
   "outputs": [
    {
     "name": "stdout",
     "output_type": "stream",
     "text": [
      "\u001b[0m\u001b[34;42merrors\u001b[0m/  \u001b[34;42mtest\u001b[0m/  \u001b[34;42mtrain_tr\u001b[0m/  \u001b[34;42mtrain_val\u001b[0m/\r\n"
     ]
    }
   ],
   "source": [
    "# let's see the structure inside\n",
    "%ls flower_photos_t2/"
   ]
  },
  {
   "cell_type": "code",
   "execution_count": 14,
   "metadata": {},
   "outputs": [],
   "source": [
    "# Proccess root_path = flower_photos_t2/train_tr\n",
    "gap = img_utils(root_path='flower_photos_t2/train_tr', transf='2to1')"
   ]
  },
  {
   "cell_type": "code",
   "execution_count": 15,
   "metadata": {},
   "outputs": [],
   "source": [
    "# transform directories between tree 2 to tree 1\n",
    "gap.transform()"
   ]
  },
  {
   "cell_type": "code",
   "execution_count": 16,
   "metadata": {},
   "outputs": [
    {
     "name": "stdout",
     "output_type": "stream",
     "text": [
      " \u001b[0m\u001b[01;32m10nc.pdf\u001b[0m*                  \u001b[01;32mboardgames.csv\u001b[0m*    \u001b[01;32m'session 3.ipynb'\u001b[0m*\r\n",
      " \u001b[01;32m4scan.pdf\u001b[0m*                 \u001b[01;32mcrash_2015.pdf\u001b[0m*    \u001b[01;32m'session 4.ipynb'\u001b[0m*\r\n",
      "\u001b[01;32m'NLP Epipog - I.pptx'\u001b[0m*      \u001b[34;42mflower_photos\u001b[0m/     \u001b[01;32m'session 5.ipynb'\u001b[0m*\r\n",
      "\u001b[01;32m'Roadmap - Gap 1.0.pptx'\u001b[0m*  \u001b[01;32m'session 0.ipynb'\u001b[0m*   \u001b[34;42mtut_files\u001b[0m/\r\n",
      "\u001b[01;32m'Session 6.ipynb'\u001b[0m*         \u001b[01;32m'session 1.ipynb'\u001b[0m*\r\n",
      "\u001b[01;32m'Train - Intro.pptx'\u001b[0m*      \u001b[01;32m'session 2.ipynb'\u001b[0m*\r\n"
     ]
    }
   ],
   "source": [
    "# notice we got the previous folder flower_photos\n",
    "%ls"
   ]
  },
  {
   "cell_type": "code",
   "execution_count": 17,
   "metadata": {},
   "outputs": [
    {
     "name": "stdout",
     "output_type": "stream",
     "text": [
      "\u001b[0m\u001b[34;42mdaisy\u001b[0m/  \u001b[34;42mdandelion\u001b[0m/  \u001b[34;42mroses\u001b[0m/  \u001b[34;42msunflowers\u001b[0m/  \u001b[34;42mtulips\u001b[0m/\r\n"
     ]
    }
   ],
   "source": [
    "# let's see the structure inside\n",
    "%ls flower_photos/"
   ]
  },
  {
   "cell_type": "code",
   "execution_count": 57,
   "metadata": {},
   "outputs": [],
   "source": [
    "# Proccess root_path = flower_photos\n",
    "gap = img_utils(root_path='flower_photos')"
   ]
  },
  {
   "cell_type": "code",
   "execution_count": 58,
   "metadata": {},
   "outputs": [],
   "source": [
    "# Let's extract a sample of the data set\n",
    "gap.img_container(action='copy', spl=15)"
   ]
  },
  {
   "cell_type": "code",
   "execution_count": 20,
   "metadata": {},
   "outputs": [
    {
     "name": "stdout",
     "output_type": "stream",
     "text": [
      " \u001b[0m\u001b[01;32m10nc.pdf\u001b[0m*                  \u001b[01;32mboardgames.csv\u001b[0m*     \u001b[01;32m'session 2.ipynb'\u001b[0m*\r\n",
      " \u001b[01;32m4scan.pdf\u001b[0m*                 \u001b[01;32mcrash_2015.pdf\u001b[0m*     \u001b[01;32m'session 3.ipynb'\u001b[0m*\r\n",
      "\u001b[01;32m'NLP Epipog - I.pptx'\u001b[0m*      \u001b[34;42mflower_photos\u001b[0m/      \u001b[01;32m'session 4.ipynb'\u001b[0m*\r\n",
      "\u001b[01;32m'Roadmap - Gap 1.0.pptx'\u001b[0m*   \u001b[34;42mflower_photos_spl\u001b[0m/  \u001b[01;32m'session 5.ipynb'\u001b[0m*\r\n",
      "\u001b[01;32m'Session 6.ipynb'\u001b[0m*         \u001b[01;32m'session 0.ipynb'\u001b[0m*    \u001b[34;42mtut_files\u001b[0m/\r\n",
      "\u001b[01;32m'Train - Intro.pptx'\u001b[0m*      \u001b[01;32m'session 1.ipynb'\u001b[0m*\r\n"
     ]
    }
   ],
   "source": [
    "# notice the new folder flower_photos_spl\n",
    "%ls"
   ]
  },
  {
   "cell_type": "code",
   "execution_count": 22,
   "metadata": {},
   "outputs": [
    {
     "name": "stdout",
     "output_type": "stream",
     "text": [
      "\u001b[0m\u001b[34;42mdaisy\u001b[0m/  \u001b[34;42mdandelion\u001b[0m/  \u001b[34;42mroses\u001b[0m/  \u001b[34;42msunflowers\u001b[0m/  \u001b[34;42mtulips\u001b[0m/\r\n"
     ]
    }
   ],
   "source": [
    "# Let's see inside\n",
    "%ls flower_photos_spl/"
   ]
  },
  {
   "cell_type": "code",
   "execution_count": 23,
   "metadata": {},
   "outputs": [],
   "source": [
    "# Proccess root_path = flower_photos\n",
    "gap = img_utils(root_path='flower_photos', tree=2)"
   ]
  },
  {
   "cell_type": "code",
   "execution_count": 24,
   "metadata": {},
   "outputs": [],
   "source": [
    "# Let's extract a sample of the data set but with the tree 2 structure\n",
    "gap.img_container(action='copy', spl=15, shufle=True, img_split=0.2)"
   ]
  },
  {
   "cell_type": "code",
   "execution_count": 29,
   "metadata": {},
   "outputs": [
    {
     "name": "stdout",
     "output_type": "stream",
     "text": [
      "number of images in train_tr: 13\n",
      "number of images in train_val: 2\n",
      "\u001b[0m\u001b[34;42mdaisy\u001b[0m/  \u001b[34;42mdandelion\u001b[0m/  \u001b[34;42mroses\u001b[0m/  \u001b[34;42msunflowers\u001b[0m/  \u001b[34;42mtulips\u001b[0m/\r\n"
     ]
    }
   ],
   "source": [
    "img_list_tr = os.listdir('flower_photos_t2_spl/train_tr/roses')\n",
    "img_list_val = os.listdir('flower_photos_t2_spl/train_val/roses')\n",
    "print('number of images in train_tr:', len(img_list_tr))\n",
    "print('number of images in train_val:', len(img_list_val))\n",
    "%ls flower_photos_t2_spl/train_tr"
   ]
  },
  {
   "cell_type": "code",
   "execution_count": 30,
   "metadata": {},
   "outputs": [],
   "source": [
    "# Proccess root_path = flower_photos_spl\n",
    "gap = img_utils(root_path='flower_photos_spl')"
   ]
  },
  {
   "cell_type": "code",
   "execution_count": 59,
   "metadata": {},
   "outputs": [
    {
     "name": "stdout",
     "output_type": "stream",
     "text": [
      "\u001b[0m\u001b[01;32m10090824183_d02c613f10_m.jpg\u001b[0m*  \u001b[01;32m118974357_0faa23cce9_n.jpg\u001b[0m*\r\n",
      "\u001b[01;32m102501987_3cdb8e5394_n.jpg\u001b[0m*    \u001b[01;32m11944957684_2cc806276e.jpg\u001b[0m*\r\n",
      "\u001b[01;32m10503217854_e66a804309.jpg\u001b[0m*    \u001b[01;32m12045735155_42547ce4e9_n.jpg\u001b[0m*\r\n",
      "\u001b[01;32m10894627425_ec76bbc757_n.jpg\u001b[0m*  \u001b[01;32m12165480946_c4a3fe182d_n.jpg\u001b[0m*\r\n",
      "\u001b[01;32m110472418_87b6a3aa98_m.jpg\u001b[0m*    \u001b[01;32m12202373204_34fb07205b.jpg\u001b[0m*\r\n",
      "\u001b[01;32m11102341464_508d558dfc_n.jpg\u001b[0m*  \u001b[01;32m12238827553_cf427bfd51_n.jpg\u001b[0m*\r\n",
      "\u001b[01;32m11233672494_d8bf0a3dbf_n.jpg\u001b[0m*  \u001b[01;32m12240165555_98625b1e88_n.jpg\u001b[0m*\r\n",
      "\u001b[01;32m11694025703_9a906fedc1_n.jpg\u001b[0m*\r\n"
     ]
    }
   ],
   "source": [
    "# current images names\n",
    "%ls flower_photos_spl/roses/"
   ]
  },
  {
   "cell_type": "code",
   "execution_count": 38,
   "metadata": {},
   "outputs": [],
   "source": [
    "# rename images\n",
    "# try the diferent options\n",
    "gap.img_rename(text='test')# text=True text='test'"
   ]
  },
  {
   "cell_type": "code",
   "execution_count": 39,
   "metadata": {},
   "outputs": [
    {
     "name": "stdout",
     "output_type": "stream",
     "text": [
      "\u001b[0m\u001b[01;32mtest_0.jpg\u001b[0m*   \u001b[01;32mtest_12.jpg\u001b[0m*  \u001b[01;32mtest_16.jpg\u001b[0m*  \u001b[01;32mtest_2.jpg\u001b[0m*  \u001b[01;32mtest_6.jpg\u001b[0m*\r\n",
      "\u001b[01;32mtest_1.jpg\u001b[0m*   \u001b[01;32mtest_13.jpg\u001b[0m*  \u001b[01;32mtest_17.jpg\u001b[0m*  \u001b[01;32mtest_3.jpg\u001b[0m*  \u001b[01;32mtest_7.jpg\u001b[0m*\r\n",
      "\u001b[01;32mtest_10.jpg\u001b[0m*  \u001b[01;32mtest_14.jpg\u001b[0m*  \u001b[01;32mtest_18.jpg\u001b[0m*  \u001b[01;32mtest_4.jpg\u001b[0m*  \u001b[01;32mtest_8.jpg\u001b[0m*\r\n",
      "\u001b[01;32mtest_11.jpg\u001b[0m*  \u001b[01;32mtest_15.jpg\u001b[0m*  \u001b[01;32mtest_19.jpg\u001b[0m*  \u001b[01;32mtest_5.jpg\u001b[0m*  \u001b[01;32mtest_9.jpg\u001b[0m*\r\n"
     ]
    }
   ],
   "source": [
    "# new images names in the label roses\n",
    "%ls flower_photos_spl/roses/"
   ]
  },
  {
   "cell_type": "code",
   "execution_count": 40,
   "metadata": {},
   "outputs": [],
   "source": [
    "# replace part of the name text \n",
    "gap.img_replace(old='st', new='sted', img_id=False)"
   ]
  },
  {
   "cell_type": "code",
   "execution_count": 42,
   "metadata": {},
   "outputs": [
    {
     "name": "stdout",
     "output_type": "stream",
     "text": [
      "\u001b[0m\u001b[01;32mtested_0.jpg\u001b[0m*   \u001b[01;32mtested_12.jpg\u001b[0m*  \u001b[01;32mtested_16.jpg\u001b[0m*  \u001b[01;32mtested_2.jpg\u001b[0m*  \u001b[01;32mtested_6.jpg\u001b[0m*\r\n",
      "\u001b[01;32mtested_1.jpg\u001b[0m*   \u001b[01;32mtested_13.jpg\u001b[0m*  \u001b[01;32mtested_17.jpg\u001b[0m*  \u001b[01;32mtested_3.jpg\u001b[0m*  \u001b[01;32mtested_7.jpg\u001b[0m*\r\n",
      "\u001b[01;32mtested_10.jpg\u001b[0m*  \u001b[01;32mtested_14.jpg\u001b[0m*  \u001b[01;32mtested_18.jpg\u001b[0m*  \u001b[01;32mtested_4.jpg\u001b[0m*  \u001b[01;32mtested_8.jpg\u001b[0m*\r\n",
      "\u001b[01;32mtested_11.jpg\u001b[0m*  \u001b[01;32mtested_15.jpg\u001b[0m*  \u001b[01;32mtested_19.jpg\u001b[0m*  \u001b[01;32mtested_5.jpg\u001b[0m*  \u001b[01;32mtested_9.jpg\u001b[0m*\r\n"
     ]
    }
   ],
   "source": [
    "# new images names in the label roses\n",
    "%ls flower_photos_spl/roses/"
   ]
  },
  {
   "cell_type": "code",
   "execution_count": 46,
   "metadata": {},
   "outputs": [],
   "source": [
    "# Proccess root_path = flower_photos_t2_spl/train_tr\n",
    "gap = img_utils(root_path='flower_photos_t2_spl/train_tr', tree=2)"
   ]
  },
  {
   "cell_type": "code",
   "execution_count": 47,
   "metadata": {},
   "outputs": [
    {
     "name": "stdout",
     "output_type": "stream",
     "text": [
      "\u001b[0m\u001b[01;32m102501987_3cdb8e5394_n.jpg\u001b[0m*    \u001b[01;32m12202373204_34fb07205b.jpg\u001b[0m*\r\n",
      "\u001b[01;32m10894627425_ec76bbc757_n.jpg\u001b[0m*  \u001b[01;32m12238827553_cf427bfd51_n.jpg\u001b[0m*\r\n",
      "\u001b[01;32m11102341464_508d558dfc_n.jpg\u001b[0m*  \u001b[01;32m12240165555_98625b1e88_n.jpg\u001b[0m*\r\n",
      "\u001b[01;32m11233672494_d8bf0a3dbf_n.jpg\u001b[0m*  \u001b[01;32m12240303_80d87f77a3_n.jpg\u001b[0m*\r\n",
      "\u001b[01;32m118974357_0faa23cce9_n.jpg\u001b[0m*    \u001b[01;32m12240577184_b0de0e53ea_n.jpg\u001b[0m*\r\n",
      "\u001b[01;32m11944957684_2cc806276e.jpg\u001b[0m*    \u001b[01;32m12243068283_ee4c2683e2_n.jpg\u001b[0m*\r\n",
      "\u001b[01;32m12165480946_c4a3fe182d_n.jpg\u001b[0m*\r\n"
     ]
    }
   ],
   "source": [
    "# current images names\n",
    "%ls flower_photos_t2_spl/train_tr/roses/"
   ]
  },
  {
   "cell_type": "code",
   "execution_count": 50,
   "metadata": {},
   "outputs": [],
   "source": [
    "# rename images\n",
    "# try the diferent options\n",
    "gap.img_rename()# text=True text='test'"
   ]
  },
  {
   "cell_type": "code",
   "execution_count": 51,
   "metadata": {},
   "outputs": [
    {
     "name": "stdout",
     "output_type": "stream",
     "text": [
      "\u001b[0m\u001b[01;32mtest_0.jpg\u001b[0m*   \u001b[01;32mtest_11.jpg\u001b[0m*  \u001b[01;32mtest_3.jpg\u001b[0m*  \u001b[01;32mtest_6.jpg\u001b[0m*  \u001b[01;32mtest_9.jpg\u001b[0m*\r\n",
      "\u001b[01;32mtest_1.jpg\u001b[0m*   \u001b[01;32mtest_12.jpg\u001b[0m*  \u001b[01;32mtest_4.jpg\u001b[0m*  \u001b[01;32mtest_7.jpg\u001b[0m*\r\n",
      "\u001b[01;32mtest_10.jpg\u001b[0m*  \u001b[01;32mtest_2.jpg\u001b[0m*   \u001b[01;32mtest_5.jpg\u001b[0m*  \u001b[01;32mtest_8.jpg\u001b[0m*\r\n"
     ]
    }
   ],
   "source": [
    "# new images names in the label roses\n",
    "%ls flower_photos_t2_spl/train_tr/roses/"
   ]
  },
  {
   "cell_type": "code",
   "execution_count": 52,
   "metadata": {},
   "outputs": [],
   "source": [
    "gap.img_replace(old='st', new='sted', img_id=True)"
   ]
  },
  {
   "cell_type": "code",
   "execution_count": 53,
   "metadata": {
    "scrolled": true
   },
   "outputs": [
    {
     "name": "stdout",
     "output_type": "stream",
     "text": [
      "\u001b[0m\u001b[01;32mtested_0_0.jpg\u001b[0m*   \u001b[01;32mtested_1_1.jpg\u001b[0m*   \u001b[01;32mtested_5_2.jpg\u001b[0m*  \u001b[01;32mtested_9_6.jpg\u001b[0m*\r\n",
      "\u001b[01;32mtested_10_7.jpg\u001b[0m*  \u001b[01;32mtested_2_10.jpg\u001b[0m*  \u001b[01;32mtested_6_3.jpg\u001b[0m*\r\n",
      "\u001b[01;32mtested_11_8.jpg\u001b[0m*  \u001b[01;32mtested_3_11.jpg\u001b[0m*  \u001b[01;32mtested_7_4.jpg\u001b[0m*\r\n",
      "\u001b[01;32mtested_12_9.jpg\u001b[0m*  \u001b[01;32mtested_4_12.jpg\u001b[0m*  \u001b[01;32mtested_8_5.jpg\u001b[0m*\r\n"
     ]
    }
   ],
   "source": [
    "# new images names in the label roses\n",
    "%ls flower_photos_t2_spl/train_tr/roses/"
   ]
  },
  {
   "cell_type": "markdown",
   "metadata": {},
   "source": [
    "### Delete samples"
   ]
  },
  {
   "cell_type": "code",
   "execution_count": 60,
   "metadata": {},
   "outputs": [
    {
     "name": "stdout",
     "output_type": "stream",
     "text": [
      "Warning! this will delete your image dataset. Are you sure? [Yes/no]: y\n",
      "Your files were deleted\n"
     ]
    }
   ],
   "source": [
    "gap = img_utils(root_path='flower_photos_spl', rm=True)"
   ]
  },
  {
   "cell_type": "code",
   "execution_count": 55,
   "metadata": {},
   "outputs": [
    {
     "name": "stdout",
     "output_type": "stream",
     "text": [
      "Warning! this will delete your image dataset. Are you sure? [Yes/no]: y\n",
      "Your files were deleted\n"
     ]
    }
   ],
   "source": [
    "gap = img_utils(root_path='flower_photos_t2_spl', rm=True)"
   ]
  },
  {
   "cell_type": "code",
   "execution_count": 56,
   "metadata": {},
   "outputs": [
    {
     "name": "stdout",
     "output_type": "stream",
     "text": [
      " \u001b[0m\u001b[01;32m10nc.pdf\u001b[0m*                  \u001b[01;32mboardgames.csv\u001b[0m*    \u001b[01;32m'session 3.ipynb'\u001b[0m*\r\n",
      " \u001b[01;32m4scan.pdf\u001b[0m*                 \u001b[01;32mcrash_2015.pdf\u001b[0m*    \u001b[01;32m'session 4.ipynb'\u001b[0m*\r\n",
      "\u001b[01;32m'NLP Epipog - I.pptx'\u001b[0m*      \u001b[34;42mflower_photos\u001b[0m/     \u001b[01;32m'session 5.ipynb'\u001b[0m*\r\n",
      "\u001b[01;32m'Roadmap - Gap 1.0.pptx'\u001b[0m*  \u001b[01;32m'session 0.ipynb'\u001b[0m*   \u001b[34;42mtut_files\u001b[0m/\r\n",
      "\u001b[01;32m'Session 6.ipynb'\u001b[0m*         \u001b[01;32m'session 1.ipynb'\u001b[0m*\r\n",
      "\u001b[01;32m'Train - Intro.pptx'\u001b[0m*      \u001b[01;32m'session 2.ipynb'\u001b[0m*\r\n"
     ]
    }
   ],
   "source": [
    "# current list directory contents \n",
    "%ls"
   ]
  },
  {
   "cell_type": "code",
   "execution_count": null,
   "metadata": {},
   "outputs": [],
   "source": []
  }
 ],
 "metadata": {
  "kernelspec": {
   "display_name": "Python 3",
   "language": "python",
   "name": "python3"
  },
  "language_info": {
   "codemirror_mode": {
    "name": "ipython",
    "version": 3
   },
   "file_extension": ".py",
   "mimetype": "text/x-python",
   "name": "python",
   "nbconvert_exporter": "python",
   "pygments_lexer": "ipython3",
   "version": "3.7.0"
  }
 },
 "nbformat": 4,
 "nbformat_minor": 2
}
