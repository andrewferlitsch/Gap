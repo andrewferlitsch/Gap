{
 "cells": [
  {
   "cell_type": "markdown",
   "metadata": {},
   "source": [
    "# Image Utils"
   ]
  },
  {
   "cell_type": "markdown",
   "metadata": {},
   "source": [
    "The `img_utils` module alows users to manage images datasets (folders and images files) directly on your disk."
   ]
  },
  {
   "cell_type": "markdown",
   "metadata": {},
   "source": [
    "### Type Of Folder Trees\n",
    "\n",
    "#### tree = 1\n",
    "```\n",
    "[root_path] \"folder_name\"/..  \n",
    "    [subfolder] class_0/..  \n",
    "    [subfolder] class_1/..  \n",
    "    [subfolder] errors/..\n",
    "```\n",
    "\n",
    "#### tree = 2\n",
    "```\n",
    "[root_path] \"folder_name\"/..  \n",
    "    [subfolder] train_tr/..  \n",
    "        [subfolder] class_0/..  \n",
    "        [subfolder] class_1/..  \n",
    "    [subfolder] train_val/..  \n",
    "        [subfolder] class_0/..  \n",
    "        [subfolder] class_1/..  \n",
    "    [subfolder] test/test/..  \n",
    "    [subfolder] errors/..  \n",
    "```"
   ]
  },
  {
   "cell_type": "markdown",
   "metadata": {},
   "source": [
    "### impor `img_utils`"
   ]
  },
  {
   "cell_type": "code",
   "execution_count": 21,
   "metadata": {
    "scrolled": true
   },
   "outputs": [],
   "source": [
    "from gapml.utils.img_tools import img_utils\n",
    "import os"
   ]
  },
  {
   "cell_type": "code",
   "execution_count": 90,
   "metadata": {},
   "outputs": [],
   "source": [
    "\"\"\" Image Utils\n",
    "Copyright, 2018(c), Andrew Ferlitsch\n",
    "Autor: David Molina @virtualdvid\n",
    "\"\"\"\n",
    "\n",
    "import os\n",
    "import sys\n",
    "import random\n",
    "import shutil\n",
    "\n",
    "class img_utils:\n",
    "    \"\"\"\n",
    "    Image Utils:\n",
    "\n",
    "    Type of Folder Tree\n",
    "\n",
    "    ## tree = 1 ##\n",
    "    [root_path] \"folder_name\"/..\n",
    "        [subfolder] class_0/..\n",
    "        [subfolder] class_1/..\n",
    "        [subfolder] errors/..\n",
    "\n",
    "    ## tree = 2 ##\n",
    "    [root_path] \"folder_name\"/..\n",
    "        [subfolder] train_tr/..\n",
    "            [subfolder] class_0/..\n",
    "            [subfolder] class_1/..\n",
    "        [subfolder] train_val/..\n",
    "            [subfolder] class_0/..\n",
    "            [subfolder] class_1/..\n",
    "        [subfolder] test/test/..\n",
    "        [subfolder] errors/..\n",
    "    \"\"\"\n",
    "\n",
    "    def __init__(self, root_path='./', tree=1, transf='1to2', rm=False):\n",
    "        \"\"\"Make directories\"\"\"\n",
    "        self.labels = os.listdir(root_path)      # list of images labels\n",
    "        self.root_path = root_path.split('/')[0] # root folder where labels are located\n",
    "        self.tree = tree                         # folder structure to the end sample\n",
    "        self.transf = transf                     # type of folder tree to tranform '1to2' or '2to1'\n",
    "        self.rm = rm                             # warning! remove folder from directory\n",
    "        \n",
    "        if rm:\n",
    "            answere_ok = False\n",
    "            while answere_ok == False:\n",
    "                try:\n",
    "                    warning = input('Warning! this will delete your image dataset. Are you sure? [Yes/no]: ')\n",
    "                    warning = warning[0].lower()\n",
    "                    if warning == 'y' or warning == 'n':\n",
    "                        answere_ok = True\n",
    "                except:\n",
    "                    continue\n",
    "            if warning == 'y':\n",
    "                shutil.rmtree(self.root_path)\n",
    "                print('Your files were deleted')\n",
    "        \n",
    "    def _list_labels_org(self):\n",
    "        \"\"\" List Labels Origin \"\"\"\n",
    "        # list of labels into root_path folder\n",
    "        if self.transf == '1to2':\n",
    "            self.labels_org = [f'{self.root_path}/{lb}' for lb in self.labels]\n",
    "        elif self.transf == '2to1':\n",
    "            self.root_path = self.root_path[:-3]\n",
    "            train_tr = [f'{self.root_path}_t2/train_tr/{lb}' for lb in self.labels]\n",
    "            train_val = [f'{self.root_path}_t2/train_val/{lb}' for lb in self.labels]\n",
    "            self.labels_org = train_tr + train_val\n",
    "    \n",
    "    def _src_list(self):\n",
    "        \"\"\" Source List \"\"\"\n",
    "        # list of labels for folders that will be renamed\n",
    "        if self.tree == 1:\n",
    "            self.src_list = [f'{self.root_path}/{lb}' for lb in self.labels]\n",
    "        if self.tree == 2:\n",
    "            train_tr = [f'{self.root_path}/train_tr/{lb}' for lb in self.labels]\n",
    "            train_val = [f'{self.root_path}/train_val/{lb}' for lb in self.labels]\n",
    "            self.src_list = train_tr + train_val\n",
    "            \n",
    "    def _makedirs(self):\n",
    "        \"\"\" Make Directories \"\"\"\n",
    "        #creates folders structure\n",
    "        if self.tree == 1:\n",
    "            for lb in self.labels:\n",
    "                os.makedirs(f'{self.root_path}{self.end}/{lb}', exist_ok=True)\n",
    "        elif self.tree == 2:\n",
    "            for lb in self.labels:\n",
    "                os.makedirs(f'{self.root_path}{self.end2}/train_tr/{lb}', exist_ok=True)\n",
    "                os.makedirs(f'{self.root_path}{self.end2}/train_val/{lb}', exist_ok=True)\n",
    "            os.makedirs(f'{self.root_path}{self.end2}/test/test', exist_ok=True)\n",
    "            os.makedirs(f'{self.root_path}{self.end2}/errors', exist_ok=True)\n",
    "        elif self.tree == None:\n",
    "            pass\n",
    "        else:\n",
    "            print('select between tree=1 or tree=2')\n",
    "\n",
    "    def _copy_move(self, ppath, action, lb, img_list, index):\n",
    "        \"\"\"\n",
    "        Copy or Move images\n",
    "        :param ppath:     Required. Partial path\n",
    "        :param action:    Required. Select between 'copy' or 'move'\n",
    "        :param lb:        Required. Label name\n",
    "        :param img_list:  Required. List of images per class\n",
    "        :param index:     Required. Index image in the list\n",
    "        \"\"\"\n",
    "        # verify type of tree to transform\n",
    "        label = lb.split('/')[-1]\n",
    "        if self.transf == '1to2':\n",
    "            org_file = f'{lb}/{img_list[index]}'\n",
    "            dst_file = f'{self.root_path}{ppath}/{label}/{img_list[index]}'\n",
    "        elif self.transf == '2to1':\n",
    "            org_file = f'{lb}/{img_list}'\n",
    "            dst_file = f'{self.root_path}/{label}/{img_list}'\n",
    "        \n",
    "        # move or copy images into new tree structure\n",
    "        if action == 'copy':\n",
    "            shutil.copy(org_file, dst_file)\n",
    "        elif action == 'move':\n",
    "            shutil.move(org_file, dst_file)\n",
    "        else:\n",
    "            print('select copy or move')\n",
    "            \n",
    "    def img_container(self, action='copy', spl=5, shufle=False, img_split=0.2):\n",
    "        \"\"\"\n",
    "        Images Container\n",
    "        :param action:    Select between 'copy' or 'move'\n",
    "        :param spl:       Select the number of pictures for label to create the sample\n",
    "        :param shufle:    select ramdom images per label or the first images on the list\n",
    "        :param img_split: percentage of split between train / val\n",
    "        \"\"\"\n",
    "        \n",
    "        # specifies the name for the root_path\n",
    "        if action == 'copy':\n",
    "            self.end  = '_spl'\n",
    "            self.end2 = '_t2' + self.end\n",
    "        elif action == 'move':\n",
    "            self.end  = ''\n",
    "            self.end2 = '_t2'\n",
    "        else:\n",
    "            print('select copy or move')\n",
    "        \n",
    "        # creates list of labels from root_path\n",
    "        self._list_labels_org()\n",
    "            \n",
    "        # creates the directories\n",
    "        self._makedirs()\n",
    "        \n",
    "        for lb in self.labels_org:\n",
    "            # list of images per label\n",
    "            img_list = os.listdir(lb)\n",
    "            # total of images per class \n",
    "            len_img_list = len(img_list)\n",
    "            \n",
    "            # sets a sample number or total of images per class to move or copy \n",
    "            if action == 'copy':\n",
    "                spl = spl\n",
    "            elif action == 'move':\n",
    "                spl = len_img_list\n",
    "            else:\n",
    "                print('select copy or move')\n",
    "            \n",
    "            if shufle:\n",
    "                #get a random image sample\n",
    "                list_index = random.sample(range(len_img_list), spl)\n",
    "            else:\n",
    "                #get the first images on folder\n",
    "                list_index = list(range(spl))\n",
    "            \n",
    "            # move images from tree 2 to tree 1\n",
    "            if self.transf == '2to1':\n",
    "                for img in img_list:\n",
    "                    ppath = None\n",
    "                    action = 'move'\n",
    "                    index = None\n",
    "                    self._copy_move(ppath, action, lb, img, index)\n",
    "                self.tree = None\n",
    "            \n",
    "            # copy or move selected images into the sample labels depending of the selected tree\n",
    "            if self.tree == 1:\n",
    "                for index in list_index:\n",
    "                    self._copy_move('_spl', action, lb, img_list, index)\n",
    "          \n",
    "            elif self.tree == 2:\n",
    "                img_tr = int(len(list_index) * (1 - img_split))\n",
    "                count = 0\n",
    "                for index in list_index:\n",
    "                    if count <= img_tr:\n",
    "                        # move or copy images in the train folder\n",
    "                        self._copy_move(f'{self.end2}/train_tr', action, lb, img_list, index)\n",
    "                    else:\n",
    "                        # move or copy images in the validation folder\n",
    "                        self._copy_move(f'{self.end2}/train_val', action, lb, img_list, index)\n",
    "                    count += 1\n",
    "            elif self.tree == None:\n",
    "                pass\n",
    "            else:\n",
    "                print('select 1 or 2')\n",
    "                \n",
    "    def transform(self, shufle=False, img_split=0.2):\n",
    "        \"\"\"\n",
    "        Transform\n",
    "        :param shufle:    select ramdom images per label or the first images on the list\n",
    "        :param img_split: percentage of split between train / val\n",
    "        \"\"\"\n",
    "        # move the files between tree structures\n",
    "        action = 'move'\n",
    "        if self.transf == '1to2':\n",
    "            self.tree = 2\n",
    "            spl = None\n",
    "            self.img_container(action, spl, shufle, img_split)\n",
    "            shutil.rmtree(self.root_path)\n",
    "        elif self.transf == '2to1':\n",
    "            self.img_container(action)\n",
    "            shutil.rmtree(f'{self.root_path}_t2')\n",
    "        else:\n",
    "            print('select 1to2 or 2to1')\n",
    "            \n",
    "    def img_rename(self, text=None):\n",
    "        \"\"\"\n",
    "        Rename Images\n",
    "        :param text:   give a text for your images name\n",
    "        \"\"\"\n",
    "        \n",
    "        # creates source list\n",
    "        self._src_list()\n",
    "                \n",
    "        for lb in self.src_list:\n",
    "            # list of images per label\n",
    "            img_list = os.listdir(lb)\n",
    "            # extract label name\n",
    "            text_lb = lb.split('/')[-1]\n",
    "            for i, img in enumerate(img_list):\n",
    "                if os.path.isdir(f'{lb}/{img}'):\n",
    "                    print('There is not images to rename')\n",
    "                    break\n",
    "                dtype = img.split('.')[-1]\n",
    "                if text == True:\n",
    "                    img_name = f'{text_lb}_{i}'\n",
    "                elif text != None:\n",
    "                    img_name = f'{text}_{i}'\n",
    "                else:\n",
    "                    img_name = f'{i}'\n",
    "                os.rename(f'{lb}/{img}', f'{lb}/{img_name}.{dtype}')\n",
    "                    \n",
    "    def img_replace(self, old, new, img_id=False):\n",
    "        \"\"\"\n",
    "        Rename Images\n",
    "        :param old:    Required. The text you want to replace.\n",
    "        :param new:    Required. The text you want to replace \"old\" with.\n",
    "        :param img_id: True to enumerate by id name_id\n",
    "        \"\"\"\n",
    "        # creates source list\n",
    "        self._src_list()\n",
    "        \n",
    "        for lb in self.src_list:\n",
    "            # list of images per label\n",
    "            img_list = os.listdir(lb)\n",
    "            for i, img in enumerate(img_list):\n",
    "                if os.path.isdir(f'{lb}/{img}'):\n",
    "                    print('There is not images to replace')\n",
    "                    break\n",
    "                if img_id:\n",
    "                    new2 = f'{new}_{i}'\n",
    "                    os.rename(f'{lb}/{img}', f'{lb}/{img.replace(old,new2)}')\n",
    "                else:\n",
    "                    os.rename(f'{lb}/{img}', f'{lb}/{img.replace(old,new)}')"
   ]
  },
  {
   "cell_type": "code",
   "execution_count": 30,
   "metadata": {},
   "outputs": [],
   "source": [
    "# Proccess root_path = flower_photos\n",
    "gap = img_utils(root_path='flower_photos')"
   ]
  },
  {
   "cell_type": "code",
   "execution_count": 31,
   "metadata": {},
   "outputs": [
    {
     "data": {
      "text/plain": [
       "'/mnt/c/Users/david/github/gapml/Gap/train'"
      ]
     },
     "execution_count": 31,
     "metadata": {},
     "output_type": "execute_result"
    }
   ],
   "source": [
    "# current working directory path.\n",
    "%pwd"
   ]
  },
  {
   "cell_type": "code",
   "execution_count": 32,
   "metadata": {
    "scrolled": true
   },
   "outputs": [
    {
     "name": "stdout",
     "output_type": "stream",
     "text": [
      " \u001b[0m\u001b[01;32m10nc.pdf\u001b[0m*                  \u001b[01;32mboardgames.csv\u001b[0m*     \u001b[01;32m'session 2.ipynb'\u001b[0m*\r\n",
      " \u001b[01;32m4scan.pdf\u001b[0m*                 \u001b[01;32mcrash_2015.pdf\u001b[0m*     \u001b[01;32m'session 3.ipynb'\u001b[0m*\r\n",
      "\u001b[01;32m'NLP Epipog - I.pptx'\u001b[0m*      \u001b[34;42mflower_photos\u001b[0m/      \u001b[01;32m'session 4.ipynb'\u001b[0m*\r\n",
      "\u001b[01;32m'Roadmap - Gap 1.0.pptx'\u001b[0m*   \u001b[34;42mflower_photos_spl\u001b[0m/  \u001b[01;32m'session 5.ipynb'\u001b[0m*\r\n",
      "\u001b[01;32m'Session 6.ipynb'\u001b[0m*         \u001b[01;32m'session 0.ipynb'\u001b[0m*    \u001b[34;42mtut_files\u001b[0m/\r\n",
      "\u001b[01;32m'Train - Intro.pptx'\u001b[0m*      \u001b[01;32m'session 1.ipynb'\u001b[0m*\r\n"
     ]
    }
   ],
   "source": [
    "# current list directory contents\n",
    "%ls"
   ]
  },
  {
   "cell_type": "code",
   "execution_count": 33,
   "metadata": {},
   "outputs": [
    {
     "name": "stdout",
     "output_type": "stream",
     "text": [
      "\u001b[0m\u001b[34;42mdaisy\u001b[0m/  \u001b[34;42mdandelion\u001b[0m/  \u001b[34;42mroses\u001b[0m/  \u001b[34;42msunflowers\u001b[0m/  \u001b[34;42mtulips\u001b[0m/\r\n"
     ]
    }
   ],
   "source": [
    "# root_path labels directory contents\n",
    "%ls flower_photos/"
   ]
  },
  {
   "cell_type": "code",
   "execution_count": 34,
   "metadata": {},
   "outputs": [],
   "source": [
    "# transform directoies between tree 1 to tree 2\n",
    "gap.transform(shufle=True, img_split=0.2)"
   ]
  },
  {
   "cell_type": "code",
   "execution_count": 35,
   "metadata": {},
   "outputs": [
    {
     "name": "stdout",
     "output_type": "stream",
     "text": [
      " \u001b[0m\u001b[01;32m10nc.pdf\u001b[0m*                  \u001b[01;32mboardgames.csv\u001b[0m*     \u001b[01;32m'session 2.ipynb'\u001b[0m*\r\n",
      " \u001b[01;32m4scan.pdf\u001b[0m*                 \u001b[01;32mcrash_2015.pdf\u001b[0m*     \u001b[01;32m'session 3.ipynb'\u001b[0m*\r\n",
      "\u001b[01;32m'NLP Epipog - I.pptx'\u001b[0m*      \u001b[34;42mflower_photos_spl\u001b[0m/  \u001b[01;32m'session 4.ipynb'\u001b[0m*\r\n",
      "\u001b[01;32m'Roadmap - Gap 1.0.pptx'\u001b[0m*   \u001b[34;42mflower_photos_t2\u001b[0m/   \u001b[01;32m'session 5.ipynb'\u001b[0m*\r\n",
      "\u001b[01;32m'Session 6.ipynb'\u001b[0m*         \u001b[01;32m'session 0.ipynb'\u001b[0m*    \u001b[34;42mtut_files\u001b[0m/\r\n",
      "\u001b[01;32m'Train - Intro.pptx'\u001b[0m*      \u001b[01;32m'session 1.ipynb'\u001b[0m*\r\n"
     ]
    }
   ],
   "source": [
    "# notice the new folder flower_photos_t2\n",
    "%ls"
   ]
  },
  {
   "cell_type": "code",
   "execution_count": 36,
   "metadata": {},
   "outputs": [
    {
     "name": "stdout",
     "output_type": "stream",
     "text": [
      "\u001b[0m\u001b[34;42merrors\u001b[0m/  \u001b[34;42mtest\u001b[0m/  \u001b[34;42mtrain_tr\u001b[0m/  \u001b[34;42mtrain_val\u001b[0m/\r\n"
     ]
    }
   ],
   "source": [
    "# let's see the structure inside\n",
    "%ls flower_photos_t2/"
   ]
  },
  {
   "cell_type": "code",
   "execution_count": 37,
   "metadata": {},
   "outputs": [],
   "source": [
    "# Proccess root_path = flower_photos_t2/train_tr\n",
    "gap = img_utils(root_path='flower_photos_t2/train_tr', transf='2to1')"
   ]
  },
  {
   "cell_type": "code",
   "execution_count": 38,
   "metadata": {},
   "outputs": [],
   "source": [
    "# transform directories between tree 2 to tree 1\n",
    "gap.transform()"
   ]
  },
  {
   "cell_type": "code",
   "execution_count": 39,
   "metadata": {},
   "outputs": [
    {
     "name": "stdout",
     "output_type": "stream",
     "text": [
      " \u001b[0m\u001b[01;32m10nc.pdf\u001b[0m*                  \u001b[01;32mboardgames.csv\u001b[0m*     \u001b[01;32m'session 2.ipynb'\u001b[0m*\r\n",
      " \u001b[01;32m4scan.pdf\u001b[0m*                 \u001b[01;32mcrash_2015.pdf\u001b[0m*     \u001b[01;32m'session 3.ipynb'\u001b[0m*\r\n",
      "\u001b[01;32m'NLP Epipog - I.pptx'\u001b[0m*      \u001b[34;42mflower_photos\u001b[0m/      \u001b[01;32m'session 4.ipynb'\u001b[0m*\r\n",
      "\u001b[01;32m'Roadmap - Gap 1.0.pptx'\u001b[0m*   \u001b[34;42mflower_photos_spl\u001b[0m/  \u001b[01;32m'session 5.ipynb'\u001b[0m*\r\n",
      "\u001b[01;32m'Session 6.ipynb'\u001b[0m*         \u001b[01;32m'session 0.ipynb'\u001b[0m*    \u001b[34;42mtut_files\u001b[0m/\r\n",
      "\u001b[01;32m'Train - Intro.pptx'\u001b[0m*      \u001b[01;32m'session 1.ipynb'\u001b[0m*\r\n"
     ]
    }
   ],
   "source": [
    "# notice we got the previous folder flower_photos\n",
    "%ls"
   ]
  },
  {
   "cell_type": "code",
   "execution_count": 40,
   "metadata": {},
   "outputs": [
    {
     "name": "stdout",
     "output_type": "stream",
     "text": [
      "\u001b[0m\u001b[34;42mdaisy\u001b[0m/  \u001b[34;42mdandelion\u001b[0m/  \u001b[34;42mroses\u001b[0m/  \u001b[34;42msunflowers\u001b[0m/  \u001b[34;42mtulips\u001b[0m/\r\n"
     ]
    }
   ],
   "source": [
    "# let's see the structure inside\n",
    "%ls flower_photos/"
   ]
  },
  {
   "cell_type": "code",
   "execution_count": 48,
   "metadata": {},
   "outputs": [],
   "source": [
    "# Proccess root_path = flower_photos\n",
    "gap = img_utils(root_path='flower_photos')"
   ]
  },
  {
   "cell_type": "code",
   "execution_count": 49,
   "metadata": {},
   "outputs": [],
   "source": [
    "# Let's extract a sample of the data set\n",
    "gap.img_container(action='copy', spl=15)"
   ]
  },
  {
   "cell_type": "code",
   "execution_count": 50,
   "metadata": {},
   "outputs": [
    {
     "name": "stdout",
     "output_type": "stream",
     "text": [
      " \u001b[0m\u001b[01;32m10nc.pdf\u001b[0m*                  \u001b[01;32mboardgames.csv\u001b[0m*     \u001b[01;32m'session 2.ipynb'\u001b[0m*\r\n",
      " \u001b[01;32m4scan.pdf\u001b[0m*                 \u001b[01;32mcrash_2015.pdf\u001b[0m*     \u001b[01;32m'session 3.ipynb'\u001b[0m*\r\n",
      "\u001b[01;32m'NLP Epipog - I.pptx'\u001b[0m*      \u001b[34;42mflower_photos\u001b[0m/      \u001b[01;32m'session 4.ipynb'\u001b[0m*\r\n",
      "\u001b[01;32m'Roadmap - Gap 1.0.pptx'\u001b[0m*   \u001b[34;42mflower_photos_spl\u001b[0m/  \u001b[01;32m'session 5.ipynb'\u001b[0m*\r\n",
      "\u001b[01;32m'Session 6.ipynb'\u001b[0m*         \u001b[01;32m'session 0.ipynb'\u001b[0m*    \u001b[34;42mtut_files\u001b[0m/\r\n",
      "\u001b[01;32m'Train - Intro.pptx'\u001b[0m*      \u001b[01;32m'session 1.ipynb'\u001b[0m*\r\n"
     ]
    }
   ],
   "source": [
    "# notice the new folder flower_photos_spl\n",
    "%ls"
   ]
  },
  {
   "cell_type": "code",
   "execution_count": 51,
   "metadata": {},
   "outputs": [
    {
     "name": "stdout",
     "output_type": "stream",
     "text": [
      "\u001b[0m\u001b[34;42mdaisy\u001b[0m/  \u001b[34;42mdandelion\u001b[0m/  \u001b[34;42mroses\u001b[0m/  \u001b[34;42msunflowers\u001b[0m/  \u001b[34;42mtulips\u001b[0m/\r\n"
     ]
    }
   ],
   "source": [
    "# Let's see inside\n",
    "%ls flower_photos_spl/"
   ]
  },
  {
   "cell_type": "code",
   "execution_count": 55,
   "metadata": {},
   "outputs": [],
   "source": [
    "# Proccess root_path = flower_photos\n",
    "gap = img_utils(root_path='flower_photos', tree=2)"
   ]
  },
  {
   "cell_type": "code",
   "execution_count": 56,
   "metadata": {},
   "outputs": [],
   "source": [
    "# Let's extract a sample of the data set but with the tree 2 structure\n",
    "gap.img_container(action='copy', spl=15, shufle=True, img_split=0.2)"
   ]
  },
  {
   "cell_type": "code",
   "execution_count": 57,
   "metadata": {},
   "outputs": [
    {
     "name": "stdout",
     "output_type": "stream",
     "text": [
      " \u001b[0m\u001b[01;32m10nc.pdf\u001b[0m*                  \u001b[01;32mboardgames.csv\u001b[0m*        \u001b[01;32m'session 1.ipynb'\u001b[0m*\r\n",
      " \u001b[01;32m4scan.pdf\u001b[0m*                 \u001b[01;32mcrash_2015.pdf\u001b[0m*        \u001b[01;32m'session 2.ipynb'\u001b[0m*\r\n",
      "\u001b[01;32m'NLP Epipog - I.pptx'\u001b[0m*      \u001b[34;42mflower_photos\u001b[0m/         \u001b[01;32m'session 3.ipynb'\u001b[0m*\r\n",
      "\u001b[01;32m'Roadmap - Gap 1.0.pptx'\u001b[0m*   \u001b[34;42mflower_photos_spl\u001b[0m/     \u001b[01;32m'session 4.ipynb'\u001b[0m*\r\n",
      "\u001b[01;32m'Session 6.ipynb'\u001b[0m*          \u001b[34;42mflower_photos_t2_spl\u001b[0m/  \u001b[01;32m'session 5.ipynb'\u001b[0m*\r\n",
      "\u001b[01;32m'Train - Intro.pptx'\u001b[0m*      \u001b[01;32m'session 0.ipynb'\u001b[0m*       \u001b[34;42mtut_files\u001b[0m/\r\n"
     ]
    }
   ],
   "source": [
    "# notice the new folder flower_photos_t2_spl\n",
    "%ls"
   ]
  },
  {
   "cell_type": "code",
   "execution_count": 58,
   "metadata": {},
   "outputs": [
    {
     "name": "stdout",
     "output_type": "stream",
     "text": [
      "number of images in train_tr: 13\n",
      "number of images in train_val: 2\n",
      "\u001b[0m\u001b[34;42mdaisy\u001b[0m/  \u001b[34;42mdandelion\u001b[0m/  \u001b[34;42mroses\u001b[0m/  \u001b[34;42msunflowers\u001b[0m/  \u001b[34;42mtulips\u001b[0m/\n"
     ]
    }
   ],
   "source": [
    "img_list_tr = os.listdir('flower_photos_t2_spl/train_tr/roses')\n",
    "img_list_val = os.listdir('flower_photos_t2_spl/train_val/roses')\n",
    "print('number of images in train_tr:', len(img_list_tr))\n",
    "print('number of images in train_val:', len(img_list_val))\n",
    "%ls flower_photos_t2_spl/train_tr"
   ]
  },
  {
   "cell_type": "code",
   "execution_count": 59,
   "metadata": {},
   "outputs": [],
   "source": [
    "# Proccess root_path = flower_photos_spl\n",
    "gap = img_utils(root_path='flower_photos_spl')"
   ]
  },
  {
   "cell_type": "code",
   "execution_count": 60,
   "metadata": {},
   "outputs": [
    {
     "name": "stdout",
     "output_type": "stream",
     "text": [
      "\u001b[0m\u001b[01;32m10090824183_d02c613f10_m.jpg\u001b[0m*  \u001b[01;32m12045735155_42547ce4e9_n.jpg\u001b[0m*\r\n",
      "\u001b[01;32m102501987_3cdb8e5394_n.jpg\u001b[0m*    \u001b[01;32m12165480946_c4a3fe182d_n.jpg\u001b[0m*\r\n",
      "\u001b[01;32m10503217854_e66a804309.jpg\u001b[0m*    \u001b[01;32m12202373204_34fb07205b.jpg\u001b[0m*\r\n",
      "\u001b[01;32m10894627425_ec76bbc757_n.jpg\u001b[0m*  \u001b[01;32m12238827553_cf427bfd51_n.jpg\u001b[0m*\r\n",
      "\u001b[01;32m110472418_87b6a3aa98_m.jpg\u001b[0m*    \u001b[01;32m12240165555_98625b1e88_n.jpg\u001b[0m*\r\n",
      "\u001b[01;32m11102341464_508d558dfc_n.jpg\u001b[0m*  \u001b[01;32m12240303_80d87f77a3_n.jpg\u001b[0m*\r\n",
      "\u001b[01;32m11233672494_d8bf0a3dbf_n.jpg\u001b[0m*  \u001b[01;32m12240577184_b0de0e53ea_n.jpg\u001b[0m*\r\n",
      "\u001b[01;32m11694025703_9a906fedc1_n.jpg\u001b[0m*  \u001b[01;32m12243069253_e512464095_n.jpg\u001b[0m*\r\n",
      "\u001b[01;32m118974357_0faa23cce9_n.jpg\u001b[0m*    \u001b[01;32m123128873_546b8b7355_n.jpg\u001b[0m*\r\n",
      "\u001b[01;32m11944957684_2cc806276e.jpg\u001b[0m*\r\n"
     ]
    }
   ],
   "source": [
    "# current images names\n",
    "%ls flower_photos_spl/roses/"
   ]
  },
  {
   "cell_type": "code",
   "execution_count": 65,
   "metadata": {},
   "outputs": [],
   "source": [
    "# rename images\n",
    "# try the diferent options\n",
    "gap.img_rename(text='test')# text=True text='test'"
   ]
  },
  {
   "cell_type": "code",
   "execution_count": 66,
   "metadata": {},
   "outputs": [
    {
     "name": "stdout",
     "output_type": "stream",
     "text": [
      "\u001b[0m\u001b[01;32mtest_0.jpg\u001b[0m*   \u001b[01;32mtest_12.jpg\u001b[0m*  \u001b[01;32mtest_16.jpg\u001b[0m*  \u001b[01;32mtest_3.jpg\u001b[0m*  \u001b[01;32mtest_7.jpg\u001b[0m*\r\n",
      "\u001b[01;32mtest_1.jpg\u001b[0m*   \u001b[01;32mtest_13.jpg\u001b[0m*  \u001b[01;32mtest_17.jpg\u001b[0m*  \u001b[01;32mtest_4.jpg\u001b[0m*  \u001b[01;32mtest_8.jpg\u001b[0m*\r\n",
      "\u001b[01;32mtest_10.jpg\u001b[0m*  \u001b[01;32mtest_14.jpg\u001b[0m*  \u001b[01;32mtest_18.jpg\u001b[0m*  \u001b[01;32mtest_5.jpg\u001b[0m*  \u001b[01;32mtest_9.jpg\u001b[0m*\r\n",
      "\u001b[01;32mtest_11.jpg\u001b[0m*  \u001b[01;32mtest_15.jpg\u001b[0m*  \u001b[01;32mtest_2.jpg\u001b[0m*   \u001b[01;32mtest_6.jpg\u001b[0m*\r\n"
     ]
    }
   ],
   "source": [
    "# new images names in the label roses\n",
    "%ls flower_photos_spl/roses/"
   ]
  },
  {
   "cell_type": "code",
   "execution_count": 67,
   "metadata": {},
   "outputs": [],
   "source": [
    "# replace part of the name text \n",
    "gap.img_replace(old='st', new='sted', img_id=False)"
   ]
  },
  {
   "cell_type": "code",
   "execution_count": 68,
   "metadata": {},
   "outputs": [
    {
     "name": "stdout",
     "output_type": "stream",
     "text": [
      "\u001b[0m\u001b[01;32mtested_0.jpg\u001b[0m*   \u001b[01;32mtested_12.jpg\u001b[0m*  \u001b[01;32mtested_16.jpg\u001b[0m*  \u001b[01;32mtested_3.jpg\u001b[0m*  \u001b[01;32mtested_7.jpg\u001b[0m*\r\n",
      "\u001b[01;32mtested_1.jpg\u001b[0m*   \u001b[01;32mtested_13.jpg\u001b[0m*  \u001b[01;32mtested_17.jpg\u001b[0m*  \u001b[01;32mtested_4.jpg\u001b[0m*  \u001b[01;32mtested_8.jpg\u001b[0m*\r\n",
      "\u001b[01;32mtested_10.jpg\u001b[0m*  \u001b[01;32mtested_14.jpg\u001b[0m*  \u001b[01;32mtested_18.jpg\u001b[0m*  \u001b[01;32mtested_5.jpg\u001b[0m*  \u001b[01;32mtested_9.jpg\u001b[0m*\r\n",
      "\u001b[01;32mtested_11.jpg\u001b[0m*  \u001b[01;32mtested_15.jpg\u001b[0m*  \u001b[01;32mtested_2.jpg\u001b[0m*   \u001b[01;32mtested_6.jpg\u001b[0m*\r\n"
     ]
    }
   ],
   "source": [
    "# new images names in the label roses\n",
    "%ls flower_photos_spl/roses/"
   ]
  },
  {
   "cell_type": "code",
   "execution_count": 91,
   "metadata": {},
   "outputs": [],
   "source": [
    "# Proccess root_path = flower_photos_t2_spl/train_tr\n",
    "gap = img_utils(root_path='flower_photos_t2_spl/train_tr', tree=2)"
   ]
  },
  {
   "cell_type": "code",
   "execution_count": 97,
   "metadata": {},
   "outputs": [
    {
     "name": "stdout",
     "output_type": "stream",
     "text": [
      "\u001b[0m\u001b[01;32mtested_0_0.jpg\u001b[0m*   \u001b[01;32mtested_1_1.jpg\u001b[0m*   \u001b[01;32mtested_5_2.jpg\u001b[0m*  \u001b[01;32mtested_9_6.jpg\u001b[0m*\r\n",
      "\u001b[01;32mtested_10_7.jpg\u001b[0m*  \u001b[01;32mtested_2_10.jpg\u001b[0m*  \u001b[01;32mtested_6_3.jpg\u001b[0m*\r\n",
      "\u001b[01;32mtested_11_8.jpg\u001b[0m*  \u001b[01;32mtested_3_11.jpg\u001b[0m*  \u001b[01;32mtested_7_4.jpg\u001b[0m*\r\n",
      "\u001b[01;32mtested_12_9.jpg\u001b[0m*  \u001b[01;32mtested_4_12.jpg\u001b[0m*  \u001b[01;32mtested_8_5.jpg\u001b[0m*\r\n"
     ]
    }
   ],
   "source": [
    "# current images names\n",
    "%ls flower_photos_t2_spl/train_tr/roses/"
   ]
  },
  {
   "cell_type": "code",
   "execution_count": 93,
   "metadata": {},
   "outputs": [],
   "source": [
    "# rename images\n",
    "# try the diferent options\n",
    "gap.img_rename(text='test')# text=True text='test'"
   ]
  },
  {
   "cell_type": "code",
   "execution_count": 94,
   "metadata": {},
   "outputs": [
    {
     "name": "stdout",
     "output_type": "stream",
     "text": [
      "\u001b[0m\u001b[01;32mtest_0.jpg\u001b[0m*   \u001b[01;32mtest_11.jpg\u001b[0m*  \u001b[01;32mtest_3.jpg\u001b[0m*  \u001b[01;32mtest_6.jpg\u001b[0m*  \u001b[01;32mtest_9.jpg\u001b[0m*\r\n",
      "\u001b[01;32mtest_1.jpg\u001b[0m*   \u001b[01;32mtest_12.jpg\u001b[0m*  \u001b[01;32mtest_4.jpg\u001b[0m*  \u001b[01;32mtest_7.jpg\u001b[0m*\r\n",
      "\u001b[01;32mtest_10.jpg\u001b[0m*  \u001b[01;32mtest_2.jpg\u001b[0m*   \u001b[01;32mtest_5.jpg\u001b[0m*  \u001b[01;32mtest_8.jpg\u001b[0m*\r\n"
     ]
    }
   ],
   "source": [
    "# new images names in the label roses\n",
    "%ls flower_photos_t2_spl/train_tr/roses/"
   ]
  },
  {
   "cell_type": "code",
   "execution_count": 95,
   "metadata": {},
   "outputs": [],
   "source": [
    "gap.img_replace(old='st', new='sted', img_id=True)"
   ]
  },
  {
   "cell_type": "code",
   "execution_count": 96,
   "metadata": {
    "scrolled": true
   },
   "outputs": [
    {
     "name": "stdout",
     "output_type": "stream",
     "text": [
      "\u001b[0m\u001b[01;32mtested_0_0.jpg\u001b[0m*   \u001b[01;32mtested_1_1.jpg\u001b[0m*   \u001b[01;32mtested_5_2.jpg\u001b[0m*  \u001b[01;32mtested_9_6.jpg\u001b[0m*\r\n",
      "\u001b[01;32mtested_10_7.jpg\u001b[0m*  \u001b[01;32mtested_2_10.jpg\u001b[0m*  \u001b[01;32mtested_6_3.jpg\u001b[0m*\r\n",
      "\u001b[01;32mtested_11_8.jpg\u001b[0m*  \u001b[01;32mtested_3_11.jpg\u001b[0m*  \u001b[01;32mtested_7_4.jpg\u001b[0m*\r\n",
      "\u001b[01;32mtested_12_9.jpg\u001b[0m*  \u001b[01;32mtested_4_12.jpg\u001b[0m*  \u001b[01;32mtested_8_5.jpg\u001b[0m*\r\n"
     ]
    }
   ],
   "source": [
    "# new images names in the label roses\n",
    "%ls flower_photos_t2_spl/train_tr/roses/"
   ]
  },
  {
   "cell_type": "markdown",
   "metadata": {},
   "source": [
    "### Delete samples"
   ]
  },
  {
   "cell_type": "code",
   "execution_count": 60,
   "metadata": {},
   "outputs": [
    {
     "name": "stdout",
     "output_type": "stream",
     "text": [
      "Warning! this will delete your image dataset. Are you sure? [Yes/no]: y\n",
      "Your files were deleted\n"
     ]
    }
   ],
   "source": [
    "gap = img_utils(root_path='flower_photos_spl', rm=True)"
   ]
  },
  {
   "cell_type": "code",
   "execution_count": 55,
   "metadata": {},
   "outputs": [
    {
     "name": "stdout",
     "output_type": "stream",
     "text": [
      "Warning! this will delete your image dataset. Are you sure? [Yes/no]: y\n",
      "Your files were deleted\n"
     ]
    }
   ],
   "source": [
    "gap = img_utils(root_path='flower_photos_t2_spl', rm=True)"
   ]
  },
  {
   "cell_type": "code",
   "execution_count": 56,
   "metadata": {},
   "outputs": [
    {
     "name": "stdout",
     "output_type": "stream",
     "text": [
      " \u001b[0m\u001b[01;32m10nc.pdf\u001b[0m*                  \u001b[01;32mboardgames.csv\u001b[0m*    \u001b[01;32m'session 3.ipynb'\u001b[0m*\r\n",
      " \u001b[01;32m4scan.pdf\u001b[0m*                 \u001b[01;32mcrash_2015.pdf\u001b[0m*    \u001b[01;32m'session 4.ipynb'\u001b[0m*\r\n",
      "\u001b[01;32m'NLP Epipog - I.pptx'\u001b[0m*      \u001b[34;42mflower_photos\u001b[0m/     \u001b[01;32m'session 5.ipynb'\u001b[0m*\r\n",
      "\u001b[01;32m'Roadmap - Gap 1.0.pptx'\u001b[0m*  \u001b[01;32m'session 0.ipynb'\u001b[0m*   \u001b[34;42mtut_files\u001b[0m/\r\n",
      "\u001b[01;32m'Session 6.ipynb'\u001b[0m*         \u001b[01;32m'session 1.ipynb'\u001b[0m*\r\n",
      "\u001b[01;32m'Train - Intro.pptx'\u001b[0m*      \u001b[01;32m'session 2.ipynb'\u001b[0m*\r\n"
     ]
    }
   ],
   "source": [
    "# current list directory contents \n",
    "%ls"
   ]
  },
  {
   "cell_type": "code",
   "execution_count": null,
   "metadata": {},
   "outputs": [],
   "source": []
  }
 ],
 "metadata": {
  "kernelspec": {
   "display_name": "Python 3",
   "language": "python",
   "name": "python3"
  },
  "language_info": {
   "codemirror_mode": {
    "name": "ipython",
    "version": 3
   },
   "file_extension": ".py",
   "mimetype": "text/x-python",
   "name": "python",
   "nbconvert_exporter": "python",
   "pygments_lexer": "ipython3",
   "version": "3.6.5"
  }
 },
 "nbformat": 4,
 "nbformat_minor": 2
}
