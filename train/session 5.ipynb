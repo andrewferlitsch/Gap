{
 "cells": [
  {
   "cell_type": "markdown",
   "metadata": {},
   "source": [
    "# Gap Framework - Computer Vision / CNN\n",
    "\n",
    "In this tutorial, we will show you how to prepare a dataset for a convolutional neural network. We will do the following:\n",
    "\n",
    "1. Preprocess a collection of images of fruits from the Kaggle Fruits-360 dataset into Machine Learning ready data.\n",
    "2. Store the Machine Learning ready data into a repository.\n",
    "3. Create a batch feeder.\n",
    "4. Create a CNN.\n",
    "5. Retreive the Machine Learning ready data.\n",
    "6. Train the CNN with our Machine Learning ready data."
   ]
  },
  {
   "cell_type": "code",
   "execution_count": null,
   "metadata": {},
   "outputs": [],
   "source": [
    "# Let's go the directory of the Gap Framework\n",
    "import os\n",
    "os.chdir(\"../\")\n",
    "!cd\n",
    "#!ls on linux"
   ]
  },
  {
   "cell_type": "markdown",
   "metadata": {},
   "source": [
    "### Setup\n",
    "\n",
    "Let's start by importing the Gap <b style='color:saddlebrown'>vision</b> module."
   ]
  },
  {
   "cell_type": "code",
   "execution_count": null,
   "metadata": {},
   "outputs": [],
   "source": [
    "# import the Gap Vision module\n",
    "from gapml.vision import Image, Images"
   ]
  },
  {
   "cell_type": "markdown",
   "metadata": {},
   "source": [
    "### Location of Dataset\n",
    "\n",
    "The Fruits 360 dataset can be downloaded from:\n",
    "\n",
    "http://www.labs.earth/datasets/fruits360.zip"
   ]
  },
  {
   "cell_type": "markdown",
   "metadata": {},
   "source": [
    "Let's go to a respository of images for classifying types of fruits. We will use this repository for image preprocessing for computer vision.\n",
    "\n",
    "The training and test datasets are under the corresponding subfolders Training and Test. Each subfolder under Training (and Test) is named according to the type of fruit (e.g., Apple) and optionally followed by a variety (e.g., Red Delicious).\n",
    "\n",
    "Let's take a look at the subfolders and see how many different classes of fruits are in our training set (i.e., 76)."
   ]
  },
  {
   "cell_type": "code",
   "execution_count": null,
   "metadata": {},
   "outputs": [],
   "source": [
    "!cd"
   ]
  },
  {
   "cell_type": "code",
   "execution_count": null,
   "metadata": {
    "scrolled": true
   },
   "outputs": [],
   "source": [
    "#os.chdir(\"../FruitMaps/fruits/fruits-360/Training\")\n",
    "\n",
    "# Let's get a list of all the subfolders of collections of fruits\n",
    "labels = os.listdir()\n",
    "print(\"Number of Labels:\", len(labels))\n",
    "print(labels)"
   ]
  },
  {
   "cell_type": "markdown",
   "metadata": {},
   "source": [
    "Let's now look a little closer at the images in the training set. We will dive into the first subfolder (Apple Braeburn)."
   ]
  },
  {
   "cell_type": "code",
   "execution_count": null,
   "metadata": {},
   "outputs": [],
   "source": [
    "# Let's get a listing of all the images in the first subfolder.\n",
    "data = os.listdir(labels[0])\n",
    "print(\"Number of Images:\", len(data))"
   ]
  },
  {
   "cell_type": "markdown",
   "metadata": {},
   "source": [
    "We will use openCV to get some basic information on the images. From the shape of the pixel data we see that its a 100x100 pixel image with three channels (i.e., RGB)."
   ]
  },
  {
   "cell_type": "code",
   "execution_count": null,
   "metadata": {},
   "outputs": [],
   "source": [
    "# Import the openCV module\n",
    "import cv2\n",
    "\n",
    "# We will look at the first image in this first collection.\n",
    "print(data[0])\n",
    "\n",
    "# Use openCV to read the image into memory as an uncompressed bitmap\n",
    "pixels = cv2.imread(labels[0] + '/' + data[0])\n",
    "\n",
    "# Let's look at the shape of the image.\n",
    "print(pixels.shape)"
   ]
  },
  {
   "cell_type": "markdown",
   "metadata": {},
   "source": [
    "Let's look at a few more random images in this subfolder and see if they are all the same size and type."
   ]
  },
  {
   "cell_type": "code",
   "execution_count": null,
   "metadata": {},
   "outputs": [],
   "source": [
    "# Our random selection of images\n",
    "for index in [ 7, 26, 143 ]:\n",
    "    print(data[index])\n",
    "\n",
    "    # Use openCV to read the image into memory as an uncompressed bitmap\n",
    "    pixels = cv2.imread(labels[0] + '/' + data[index])\n",
    "\n",
    "    # Let's look at the shape of the image.\n",
    "    print(pixels.shape)"
   ]
  },
  {
   "cell_type": "markdown",
   "metadata": {},
   "source": [
    "Okay, the are the same size.\n",
    "\n",
    "Let's look a different collection of fruits and see if they too are the same size. Let's use the 8th (index 7) subfolder."
   ]
  },
  {
   "cell_type": "code",
   "execution_count": null,
   "metadata": {},
   "outputs": [],
   "source": [
    "# Our random selection of images\n",
    "for index in [ 7, 26, 143 ]:\n",
    "    print(data[index])\n",
    "\n",
    "    # Use openCV to read the image into memory as an uncompressed bitmap\n",
    "    pixels = cv2.imread(labels[7] + '/' + data[index])\n",
    "\n",
    "    # Let's look at the shape of the image.\n",
    "    print(pixels.shape)"
   ]
  },
  {
   "cell_type": "markdown",
   "metadata": {},
   "source": [
    "### Practice\n",
    "\n",
    "Let's do a practice run and preprocess one collection of fruit images.\n",
    "\n",
    "Note, how we specified the subfolder instead of a list for the parameter images. The initializer (constructor) looks at the parameter and if its not a list, but a string it presumes the parameter is a path to a folder with images."
   ]
  },
  {
   "cell_type": "code",
   "execution_count": null,
   "metadata": {},
   "outputs": [],
   "source": [
    "images = Images(labels[0], 0)\n",
    "print(\"TIME\", images.time)"
   ]
  },
  {
   "cell_type": "markdown",
   "metadata": {},
   "source": [
    "Perhaps our images won't need to be as big to train the CNN. Let's take a shot in the dark and say they only need to be 50x50. This will reduce the size of our data by 75%."
   ]
  },
  {
   "cell_type": "code",
   "execution_count": null,
   "metadata": {},
   "outputs": [],
   "source": [
    "images = Images(labels[0], 0, config=['resize=(50,50)'])\n",
    "print(\"TIME\", images.time)\n",
    "\n",
    "os.remove('collection.0_100.h5')"
   ]
  },
  {
   "cell_type": "markdown",
   "metadata": {},
   "source": [
    "### Prepare the Data\n",
    "\n",
    "The labels of the fruits are names, but we need integer values to train the CNN. Since all the subfolder names (fruit name+variety) are in the list labels, we will use the index of the list as the labels.\n",
    "\n",
    "For brevity of time, we will only create machine learning ready data for three of the fruit collections (hence why we commented out the line for doing the entire set of fruits)."
   ]
  },
  {
   "cell_type": "code",
   "execution_count": null,
   "metadata": {},
   "outputs": [],
   "source": [
    "# Process all the Collections (subfolders) of Fruits\n",
    "#images = Images(labels, [l for l in range(len(labels))], config=['resize=(50,50)'], name='fruits')\n",
    "\n",
    "# For brevity, let's just do three of them\n",
    "images = Images([labels[0], labels[1], labels[2]], [l for l in range(3)], config=['resize=(50,50)'], name='fruits')\n",
    "\n",
    "print(\"TIME:\", images.time)"
   ]
  },
  {
   "cell_type": "markdown",
   "metadata": {},
   "source": [
    "### Batch Generation\n",
    "\n",
    "In the full Kaggle Fruits360 dataset, the training and test data are in separate collections. \n",
    "\n",
    "Since for this code along we are just using a subset for demonstration, we will use only images from the training set and split part of it into our test set, as well as randomize the order of the training set. We will set the split to 20% test and use 42 as our random seed."
   ]
  },
  {
   "cell_type": "code",
   "execution_count": null,
   "metadata": {},
   "outputs": [],
   "source": [
    "# Keep all the images for training, randomize their order\n",
    "images.split = 0.2, 42\n",
    "\n",
    "# Let's look at the (internal) _train property and verify that the indices of the images has been randomized.\n",
    "images._train"
   ]
  },
  {
   "cell_type": "markdown",
   "metadata": {},
   "source": [
    "Let's now split the data. Note how the method looks similar to sci-learn's train_test_split() function, but much simpler to use."
   ]
  },
  {
   "cell_type": "code",
   "execution_count": null,
   "metadata": {},
   "outputs": [],
   "source": [
    "# When used as a getter, the split property will return the training / test data and labels the same as the sci-learn\n",
    "# procedure train_test_split()\n",
    "X_train, X_test, Y_train, Y_test = images.split"
   ]
  },
  {
   "cell_type": "code",
   "execution_count": null,
   "metadata": {},
   "outputs": [],
   "source": [
    "print(\"Number of Images\", len(X_train))\n",
    "print(\"Image Example\", X_train[0])\n",
    "print(\"Label\", Y_train[0])"
   ]
  },
  {
   "cell_type": "markdown",
   "metadata": {},
   "source": [
    "Let's create our mini-barch generator."
   ]
  },
  {
   "cell_type": "code",
   "execution_count": null,
   "metadata": {},
   "outputs": [],
   "source": [
    "images.minibatch = 32"
   ]
  },
  {
   "cell_type": "markdown",
   "metadata": {},
   "source": [
    "##  Construct the CNN"
   ]
  },
  {
   "cell_type": "code",
   "execution_count": null,
   "metadata": {},
   "outputs": [],
   "source": [
    "# Importing Tensorflow\n",
    "import tensorflow as tf\n",
    "from tensorflow.python.framework import ops"
   ]
  },
  {
   "cell_type": "markdown",
   "metadata": {},
   "source": [
    "### Input Vector and Output Vector and Hyperparameter Placeholders\n",
    "\n",
    "For our first tensorflow step, we will setup a Tensorflow placeholders.\n",
    "\n",
    "We have four placeholders we need to declare, one for the input vector (pixel image data, one for the output vector (fruit classifier), one for the dropout rate and one for the learning rate.\n",
    "\n",
    "For our input placeholder (which we call X), we have 7500 features (pixels per image). For the output vector (which we call Y), we have have 3 classifiers (3 different fruits). In both cases, we set the second dimension of our vector to None. The None is a placeholder for the number of samples we will feed into the neural network at run-time. We also know that our data is floating point values between 0 and 1, so we will set the data type to float32.\n",
    "\n",
    "We will declare two more placeholders for setting some hyper-parameters, the percent to keep in the dropout layer (D) and the learning rate in the optimizer (L). Since both are scalar values, we will define their shape as a single value."
   ]
  },
  {
   "cell_type": "code",
   "execution_count": null,
   "metadata": {},
   "outputs": [],
   "source": [
    "# Let's first reset our graph, so our neural network components are all declared within the same graph\n",
    "ops.reset_default_graph() \n",
    "\n",
    "X = tf.placeholder(tf.float32, [None, 50, 50, 3]) # shape = [batch, width, height, channels ]\n",
    "Y = tf.placeholder(tf.float32, [None, 3])  # shape = [batch, number of labels ]\n",
    "D = tf.placeholder(tf.float32, [])\n",
    "L = tf.placeholder(tf.float32, [])"
   ]
  },
  {
   "cell_type": "markdown",
   "metadata": {},
   "source": [
    "### INPUT (CONVOLUTION) LAYER\n",
    "\n",
    "Let's now design our input convolution layer. For our convolutional layer, we will need a set of filters, weights for the filters and biases for the output. We will use 32 filters. Each filter will be 5 x 5 (pixels) in size and one channel (i.e., single plane) corresonding to grayscale image.\n",
    "\n",
    "Each input filter will need a weight (which our model will learn during training). The weight is multipled against the value of the input (filter), which we symbolically represent as Wx. \n",
    "\n",
    "Each output from the layer will need a bias (which our model will learn during training). The bias is added to the result of the weight multipled by the filter (Wx + b).\n",
    "\n",
    "Let's create two Tensorflow variables for our weights and biases. The weights (which we call W) will need to be a 4D matrix. The first two dimensions are the filter size (5 x 5), then the number of channels, and then the number of outputs, which will be 32.\n",
    "\n",
    "The bias will be a vector of size 32 (one for each output).\n",
    "\n",
    "We need to initialize our weights and biases to some initial value. We will initialize the weights using a random value initializer (normalized distribution) and initialize the biases to 0.1."
   ]
  },
  {
   "cell_type": "code",
   "execution_count": null,
   "metadata": {},
   "outputs": [],
   "source": [
    "tf.set_random_seed(1)   # Set the same seed to get the same initialization as in this demo.\n",
    "\n",
    "# The weights for the input (convolutional) layer\n",
    "# 5x5 pixel filter, 3 channels, 32 outputs (filters)\n",
    "W1 = tf.Variable(tf.truncated_normal([5, 5 , 3, 32], stddev=0.1))\n",
    "\n",
    "# The bias for the output from the input (convolutional) layer\n",
    "b1 = tf.Variable(tf.constant(0.1, shape=[32]))"
   ]
  },
  {
   "cell_type": "markdown",
   "metadata": {},
   "source": [
    "Let's put it together into an input (convolutional) layer. We will use the Tensorflow method tf.nn.conv2d() to apply the filters and the weights (our variable W1) against the inputs (our placeholder X), add in the bias (b1), and pass the output through a linear rectifier (RELU) activation function.\n",
    "\n",
    "- We need to reshape our flattened input data (X - which is our input placeholder) back into a 50x50 2D matric (bitmap) with three color channels - tf.reshape(X, [-1, 50, 50, 3])\n",
    "- We will set our stride for the sliding filters to move one pixel at a time in each direction.\n",
    "- We will set the padding when the filter moves past the edge of the bitmap to same.\n",
    "- Add the bias to the 32 outputs from our convolution.\n",
    "- Pass the outputs from the input (convolutional) layer through a RELU activation function."
   ]
  },
  {
   "cell_type": "code",
   "execution_count": null,
   "metadata": {},
   "outputs": [],
   "source": [
    "# The first layer (2D Convolution)\n",
    "\n",
    "Z1 = tf.nn.conv2d( input=X,     # tf.reshape(X, [-1, 50, 50, 3]),  \n",
    "                   filter=W1,           \n",
    "                   strides=[1,1,1,1],\n",
    "                   padding='SAME') + b1\n",
    "\n",
    "A1 = tf.nn.relu(Z1)"
   ]
  },
  {
   "cell_type": "code",
   "execution_count": null,
   "metadata": {},
   "outputs": [],
   "source": [
    "# Let's look at the what the shape of the output tensor will be from the activation unit. \n",
    "# As you can see, it will be 50x50 pixels with 32 channels.\n",
    "print(A1)"
   ]
  },
  {
   "cell_type": "markdown",
   "metadata": {},
   "source": [
    "### MAX POOLING LAYER\n",
    "\n",
    "The max pooling layer will have as input the output from the first layer, which is a 4D matrix (batch, height, width, channels), where the number of channels is 32. We will use a 2x2 pooling window over each channel, with a stride of 2."
   ]
  },
  {
   "cell_type": "code",
   "execution_count": null,
   "metadata": {},
   "outputs": [],
   "source": [
    "# the second layer (max pooling)\n",
    "\n",
    "Z2 = tf.nn.max_pool(A1, ksize=[1,2,2,1], strides=[1,2,2,1], padding='SAME')"
   ]
  },
  {
   "cell_type": "code",
   "execution_count": null,
   "metadata": {},
   "outputs": [],
   "source": [
    "# Let's look at the shape of the output tensor will be from the max pooling layer.\n",
    "# As you can see, it has been downsampled to 25x25 pixels with 32 channels.\n",
    "print(Z2)"
   ]
  },
  {
   "cell_type": "markdown",
   "metadata": {},
   "source": [
    "### FIRST HIDDEN LAYER\n",
    "\n",
    "The first hidden layer will have as inputs the flatten outputs from max pooling layer and 256 outputs. \n",
    "\n",
    "Let's start by flattening the output from the max pooling layer."
   ]
  },
  {
   "cell_type": "code",
   "execution_count": null,
   "metadata": {},
   "outputs": [],
   "source": [
    "F2 = tf.reshape(Z2, [-1, 25*25*32])  # Flatten each 25x25 pixel with 32 channels to single 1D vector\n",
    "print(F2)\n",
    "print(F2.get_shape()[1])"
   ]
  },
  {
   "cell_type": "markdown",
   "metadata": {},
   "source": [
    "Each input will need a weight and each output a bias (which we will train). Each output will be passed through the linear rectifier unit (RELU) activation function.\n",
    "\n",
    "We will initialize the weights using a random value initializer (Xavier) and initialize the biases to zero."
   ]
  },
  {
   "cell_type": "code",
   "execution_count": null,
   "metadata": {},
   "outputs": [],
   "source": [
    "# The return value from F2.get_shape() needs to be casted into an int.\n",
    "W3 = tf.Variable(tf.truncated_normal([int(F2.get_shape()[1]), 256], stddev=0.1))\n",
    "\n",
    "b3 = tf.Variable(tf.constant(0.1, shape=[256]))"
   ]
  },
  {
   "cell_type": "markdown",
   "metadata": {},
   "source": [
    "Let's construct the first hidden layer\n",
    "\n",
    "- Create a node that will multiply the weights (W3) against the outputs of the max pooling layer (F2)\n",
    "- Create a node that adds the bias (b3) to the above node (F2 * W3).\n",
    "- Pass the output of the hidden layer through a dropout layer\n",
    "- Pass the outputs from the dropout layer through a RELU activation function"
   ]
  },
  {
   "cell_type": "code",
   "execution_count": null,
   "metadata": {},
   "outputs": [],
   "source": [
    "# The third layer (first hidden layer)\n",
    "Z3 = tf.add(tf.matmul(F2, W3), b3)\n",
    "\n",
    "# Let's add the dropout layer to the output signal from the second layer\n",
    "D3 = tf.nn.dropout(Z3, keep_prob=D)\n",
    "\n",
    "# Let's add the activation function to the output signal from the dropout layer\n",
    "A3 = tf.nn.relu(D3)"
   ]
  },
  {
   "cell_type": "markdown",
   "metadata": {},
   "source": [
    "### SECOND HIDDEN LAYER\n",
    "\n",
    "The second hidden layer will have 256 inputs (outputs from first hidden layer) and 20 outputs. Each input will need a weight and each output a bias (which we will train). Each output will be passed through the linear rectifier unit (RELU) activation function.\n",
    "\n",
    "We will initialize the weights using a random value initializer (Xavier) and initialize the biases to zero."
   ]
  },
  {
   "cell_type": "code",
   "execution_count": null,
   "metadata": {},
   "outputs": [],
   "source": [
    "W4 = tf.get_variable(\"W4\", [256, 20], initializer=tf.contrib.layers.xavier_initializer(seed=1))\n",
    "b4 = tf.get_variable(\"b4\", [1, 20], initializer=tf.zeros_initializer())"
   ]
  },
  {
   "cell_type": "markdown",
   "metadata": {},
   "source": [
    "#### Let's construct the second hidden layer\n",
    "\n",
    "- Create a node that will multiply the weights (W4) against the outputs of the first hidden layer (A3).\n",
    "- Create a node that adds the bias (b4) to the above node (W4 * A3)\n",
    "- Pass the outputs from the second hidden layer through a RELU activation function"
   ]
  },
  {
   "cell_type": "code",
   "execution_count": null,
   "metadata": {},
   "outputs": [],
   "source": [
    "# The fourth layer (second hidden layer)\n",
    "Z4 = tf.add(tf.matmul(A3, W4), b4) \n",
    "\n",
    "# Let's add the activation function to the output signal from the third layer\n",
    "A4 = tf.nn.relu(Z4)"
   ]
  },
  {
   "cell_type": "markdown",
   "metadata": {},
   "source": [
    "### OUTPUT LAYER\n",
    "\n",
    "The output layer will have 20 inputs (outputs from the second hidden layer) and 3 outputs (one for each type of fruit). Each input will need a weight and each output a bias (which we will train). The 3 outputs will be passed through a softmax activation function. \n",
    "\n",
    "We will initialize the weights using a random value initializer (Xavier) and initialize the biases to zero."
   ]
  },
  {
   "cell_type": "code",
   "execution_count": null,
   "metadata": {},
   "outputs": [],
   "source": [
    "W5 = tf.get_variable(\"W5\", [20, 3], initializer=tf.contrib.layers.xavier_initializer(seed=1))\n",
    "b5 = tf.get_variable(\"b5\", [1, 3], initializer=tf.zeros_initializer())"
   ]
  },
  {
   "cell_type": "markdown",
   "metadata": {},
   "source": [
    "Let's construct the output layer\n",
    "\n",
    "- Create a node that will multiply the weights (W4) against the outputs of the second hidden layer (A3).\n",
    "- Create a node that adds the bias to the above node (W4 * A3).\n",
    "- Pass the outputs from the output layer through a SOFTMAX squashing function (done by the optimizer)."
   ]
  },
  {
   "cell_type": "code",
   "execution_count": null,
   "metadata": {},
   "outputs": [],
   "source": [
    "# The fifth layer (output layer)\n",
    "Z5 = tf.add(tf.matmul(A4, W5), b5) "
   ]
  },
  {
   "cell_type": "markdown",
   "metadata": {},
   "source": [
    "### OPTIMIZER\n",
    "\n",
    "Now its time to design our optimizer. Let's start by designing our cost function. We will use the mean value of the softmax cross entropy between the predicted labels and actual labels. This is what we want to reduce on each batch."
   ]
  },
  {
   "cell_type": "code",
   "execution_count": null,
   "metadata": {},
   "outputs": [],
   "source": [
    "# to fit the tensorflow requirement for tf.nn.softmax_cross_entropy_with_logits(...,...)\n",
    "cost = tf.reduce_mean(tf.nn.softmax_cross_entropy_with_logits_v2(logits=Z5, labels=Y))"
   ]
  },
  {
   "cell_type": "markdown",
   "metadata": {},
   "source": [
    "Let's design our optimizer. This is the method that adjusts the values of the weights and biases, based on minimizing the cost value during training.\n",
    "\n",
    "We also need to set a learning rate. This is multiplied against the gradient calculation. It's used to prevent huge swings in setting weights which can result in either converging at a local (instead of global) optima, or not converging at all (infinite gradient). We will set the learning rate when we run the graph using the placeholder L."
   ]
  },
  {
   "cell_type": "code",
   "execution_count": null,
   "metadata": {},
   "outputs": [],
   "source": [
    "# The learning rate for Gradient Descent algorithm\n",
    "# learning_rate = 0.5\n",
    "\n",
    "optimizer = tf.train.GradientDescentOptimizer(L).minimize(cost)"
   ]
  },
  {
   "cell_type": "markdown",
   "metadata": {},
   "source": [
    "### Run the Graph\n",
    "\n",
    "We've built our Tensorflow graph for training our data. So, let's start training it.\n",
    "\n",
    "First, we need to call Tensorflow's global_variables_initializer() method to initialize the variables we've defined. We will create this as another node, which will be the first node we run (evaluate) in our graph."
   ]
  },
  {
   "cell_type": "code",
   "execution_count": null,
   "metadata": {},
   "outputs": [],
   "source": [
    "init = tf.global_variables_initializer()"
   ]
  },
  {
   "cell_type": "markdown",
   "metadata": {},
   "source": [
    "It's also a good idea to know how long your training takes, so let's import the time library."
   ]
  },
  {
   "cell_type": "code",
   "execution_count": null,
   "metadata": {},
   "outputs": [],
   "source": [
    "import time"
   ]
  },
  {
   "cell_type": "markdown",
   "metadata": {},
   "source": [
    "Let's set our hyperparameters.\n",
    "\n",
    "We need to set the number of epochs (that's how many times we run the training data through the neural network), and the batch size. The batch size is a small subset of the entire training set. We will be running a batch at a time per epoch. After each batch, then the cost is computed and backpropagated through the neural network."
   ]
  },
  {
   "cell_type": "code",
   "execution_count": null,
   "metadata": {},
   "outputs": [],
   "source": [
    "import time\n",
    "\n",
    "epochs = 25                                    # run a 25 epochs\n",
    "batch_size = 32                                # for each epoch, train in batches of 100 images\n",
    "number_of_images = len(X_train)                # number of images in training data\n",
    "\n",
    "# Feed Dictionary Parameters\n",
    "keep_prob = 0.9                                # percent of outputs to keep in dropout layer\n",
    "learning_rate = 0.02                           # the learning rate for graident descent"
   ]
  },
  {
   "cell_type": "code",
   "execution_count": null,
   "metadata": {},
   "outputs": [],
   "source": [
    "def train():\n",
    "    start = time.time()\n",
    "\n",
    "    with tf.Session() as sess:\n",
    "        # Initialize the variables\n",
    "        sess.run(init)\n",
    "        \n",
    "        # number of batches in an epoch\n",
    "        batches = number_of_images // batch_size\n",
    "\n",
    "        # run our training data through the neural network for each epoch\n",
    "        for epoch in range(epochs):\n",
    "\n",
    "          epoch_cost = 0\n",
    "\n",
    "          # Run the training data through the neural network\n",
    "          for batch in range(batches):\n",
    "\n",
    "              # Calculate the start and end indices for the next batch\n",
    "              begin = (batch * batch_size)\n",
    "              end   = (batch * batch_size) + batch_size\n",
    "\n",
    "\n",
    "              # Get the next sequential batch from the training data\n",
    "              batch_xs, batch_ys = X_train[begin:end], Y_train[begin:end]\n",
    "\n",
    "              # Feed this batch through the neural network.\n",
    "              _, batch_cost = sess.run([optimizer, cost], feed_dict={X: batch_xs, Y: batch_ys, D: keep_prob, L: learning_rate})\n",
    "\n",
    "              epoch_cost += batch_cost\n",
    "\n",
    "          print(\"Epoch: \", epoch, epoch_cost / batches)\n",
    "\n",
    "        end = time.time()\n",
    "\n",
    "        print(\"Training Time:\", end - start)\n",
    "\n",
    "        # Test the Model\n",
    "\n",
    "        # Let's select the highest percent from the softmax output per image as the prediction.\n",
    "        prediction = tf.equal(tf.argmax(Z5), tf.argmax(Y))\n",
    "\n",
    "        # Let's create another node for calculating the accuracy\n",
    "        accuracy = tf.reduce_mean(tf.cast(prediction, tf.float32))\n",
    "\n",
    "        # Now let's run our trainingt images through the model to calculate our accuracy during training\n",
    "        # Note how we set the keep percent for the dropout rate to 1.0 (no dropout) when we are evaluating the accuracy.\n",
    "        print (\"Train Accuracy:\", accuracy.eval({X: X_train, Y: Y_train, D: 1.0}))\n",
    "\n",
    "        # Now let's run our test images through the model to calculate our accuracy on the test data\n",
    "        print (\"Test Accuracy:\", accuracy.eval({X: X_test, Y: Y_test, D: 1.0}))\n",
    "        \n",
    "train()"
   ]
  }
 ],
 "metadata": {
  "kernelspec": {
   "display_name": "Python 3",
   "language": "python",
   "name": "python3"
  },
  "language_info": {
   "codemirror_mode": {
    "name": "ipython",
    "version": 3
   },
   "file_extension": ".py",
   "mimetype": "text/x-python",
   "name": "python",
   "nbconvert_exporter": "python",
   "pygments_lexer": "ipython3",
   "version": "3.5.2"
  }
 },
 "nbformat": 4,
 "nbformat_minor": 2
}
