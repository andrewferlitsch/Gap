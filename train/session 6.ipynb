{
 "cells": [
  {
   "cell_type": "markdown",
   "metadata": {},
   "source": [
    "# Image Utils"
   ]
  },
  {
   "cell_type": "markdown",
   "metadata": {},
   "source": [
    "The `img_utils` module alows users to manage images datasets (folders and images files) directly on your disk."
   ]
  },
  {
   "cell_type": "markdown",
   "metadata": {},
   "source": [
    "### Type Of Folder Trees\n",
    "\n",
    "#### tree = 1\n",
    "```\n",
    "[root_path] \"folder_name\"/..  \n",
    "    [subfolder] class_0/..  \n",
    "    [subfolder] class_1/..  \n",
    "    [subfolder] errors/..\n",
    "```\n",
    "\n",
    "#### tree = 2\n",
    "```\n",
    "[root_path] \"folder_name\"/..  \n",
    "    [subfolder] train_tr/..  \n",
    "        [subfolder] class_0/..  \n",
    "        [subfolder] class_1/..  \n",
    "    [subfolder] train_val/..  \n",
    "        [subfolder] class_0/..  \n",
    "        [subfolder] class_1/..  \n",
    "    [subfolder] test/test/..  \n",
    "    [subfolder] errors/..  \n",
    "```"
   ]
  },
  {
   "cell_type": "markdown",
   "metadata": {},
   "source": [
    "### impor `img_utils`"
   ]
  },
  {
   "cell_type": "code",
   "execution_count": null,
   "metadata": {
    "scrolled": true
   },
   "outputs": [],
   "source": [
    "from gapml.utils.img_tools import ImgUtils\n",
    "import os"
   ]
  },
  {
   "cell_type": "code",
   "execution_count": null,
   "metadata": {},
   "outputs": [],
   "source": [
    "# Proccess root_path = flower_photos\n",
    "gap = ImgUtils(root_path='flower_photos')"
   ]
  },
  {
   "cell_type": "code",
   "execution_count": null,
   "metadata": {},
   "outputs": [],
   "source": [
    "# current working directory path.\n",
    "%pwd"
   ]
  },
  {
   "cell_type": "code",
   "execution_count": null,
   "metadata": {
    "scrolled": true
   },
   "outputs": [],
   "source": [
    "# current list directory contents\n",
    "%ls"
   ]
  },
  {
   "cell_type": "code",
   "execution_count": null,
   "metadata": {},
   "outputs": [],
   "source": [
    "# root_path labels directory contents\n",
    "%ls flower_photos/"
   ]
  },
  {
   "cell_type": "code",
   "execution_count": null,
   "metadata": {
    "scrolled": true
   },
   "outputs": [],
   "source": [
    "# transform directoies between tree 1 to tree 2\n",
    "gap.transform(shufle=True, img_split=0.2)"
   ]
  },
  {
   "cell_type": "code",
   "execution_count": null,
   "metadata": {},
   "outputs": [],
   "source": [
    "# notice the new folder flower_photos_t2\n",
    "%ls"
   ]
  },
  {
   "cell_type": "code",
   "execution_count": null,
   "metadata": {},
   "outputs": [],
   "source": [
    "# let's see the structure inside\n",
    "%ls flower_photos_t2/"
   ]
  },
  {
   "cell_type": "code",
   "execution_count": null,
   "metadata": {},
   "outputs": [],
   "source": [
    "# Proccess root_path = flower_photos_t2/train_tr\n",
    "gap = ImgUtils(root_path='flower_photos_t2/train_tr')"
   ]
  },
  {
   "cell_type": "code",
   "execution_count": null,
   "metadata": {},
   "outputs": [],
   "source": [
    "# transform directories between tree 2 to tree 1\n",
    "gap.transf='2to1'\n",
    "gap.transform()"
   ]
  },
  {
   "cell_type": "code",
   "execution_count": null,
   "metadata": {},
   "outputs": [],
   "source": [
    "# notice we got the previous folder flower_photos\n",
    "%ls"
   ]
  },
  {
   "cell_type": "code",
   "execution_count": null,
   "metadata": {},
   "outputs": [],
   "source": [
    "# let's see the structure inside\n",
    "%ls flower_photos/"
   ]
  },
  {
   "cell_type": "code",
   "execution_count": null,
   "metadata": {},
   "outputs": [],
   "source": [
    "# Proccess root_path = flower_photos\n",
    "gap = ImgUtils(root_path='flower_photos')"
   ]
  },
  {
   "cell_type": "code",
   "execution_count": null,
   "metadata": {
    "scrolled": true
   },
   "outputs": [],
   "source": [
    "# Let's extract a sample of the data set\n",
    "gap.img_container(action='copy', spl=20)"
   ]
  },
  {
   "cell_type": "code",
   "execution_count": null,
   "metadata": {},
   "outputs": [],
   "source": [
    "# notice the new folder flower_photos_spl\n",
    "%ls"
   ]
  },
  {
   "cell_type": "code",
   "execution_count": null,
   "metadata": {},
   "outputs": [],
   "source": [
    "# Let's see inside\n",
    "%ls flower_photos_spl/"
   ]
  },
  {
   "cell_type": "code",
   "execution_count": null,
   "metadata": {},
   "outputs": [],
   "source": [
    "# Proccess root_path = flower_photos\n",
    "gap = ImgUtils(root_path='flower_photos', tree=2)"
   ]
  },
  {
   "cell_type": "code",
   "execution_count": null,
   "metadata": {},
   "outputs": [],
   "source": [
    "# Let's extract a sample of the data set but with the tree 2 structure\n",
    "gap.img_container(action='copy', spl=20, shufle=True, img_split=0.2)"
   ]
  },
  {
   "cell_type": "code",
   "execution_count": null,
   "metadata": {},
   "outputs": [],
   "source": [
    "# notice the new folder flower_photos_t2_spl\n",
    "%ls"
   ]
  },
  {
   "cell_type": "code",
   "execution_count": null,
   "metadata": {},
   "outputs": [],
   "source": [
    "img_list_tr = os.listdir('flower_photos_t2_spl/train_tr/roses')\n",
    "img_list_val = os.listdir('flower_photos_t2_spl/train_val/roses')\n",
    "print('number of images in train_tr:', len(img_list_tr))\n",
    "print('number of images in train_val:', len(img_list_val))\n",
    "%ls flower_photos_t2_spl/train_tr"
   ]
  },
  {
   "cell_type": "code",
   "execution_count": null,
   "metadata": {},
   "outputs": [],
   "source": [
    "# Proccess root_path = flower_photos_spl\n",
    "gap = ImgUtils(root_path='flower_photos_spl')"
   ]
  },
  {
   "cell_type": "code",
   "execution_count": null,
   "metadata": {},
   "outputs": [],
   "source": [
    "# current images names\n",
    "%ls flower_photos_spl/roses/"
   ]
  },
  {
   "cell_type": "code",
   "execution_count": null,
   "metadata": {},
   "outputs": [],
   "source": [
    "# rename images\n",
    "# try the diferent options\n",
    "gap.img_rename(text='test')# text=True text='test'"
   ]
  },
  {
   "cell_type": "code",
   "execution_count": null,
   "metadata": {},
   "outputs": [],
   "source": [
    "# new images names in the label roses\n",
    "%ls flower_photos_spl/roses/"
   ]
  },
  {
   "cell_type": "code",
   "execution_count": null,
   "metadata": {},
   "outputs": [],
   "source": [
    "# replace part of the name text \n",
    "gap.img_replace(old='st', new='sted', img_id=False)"
   ]
  },
  {
   "cell_type": "code",
   "execution_count": null,
   "metadata": {},
   "outputs": [],
   "source": [
    "# new images names in the label roses\n",
    "%ls flower_photos_spl/roses/"
   ]
  },
  {
   "cell_type": "code",
   "execution_count": null,
   "metadata": {},
   "outputs": [],
   "source": [
    "# Proccess root_path = flower_photos_t2_spl/train_tr\n",
    "gap = ImgUtils(root_path='flower_photos_t2_spl/train_tr', tree=2)"
   ]
  },
  {
   "cell_type": "code",
   "execution_count": null,
   "metadata": {},
   "outputs": [],
   "source": [
    "# current images names\n",
    "%ls flower_photos_t2_spl/train_tr/roses/"
   ]
  },
  {
   "cell_type": "code",
   "execution_count": null,
   "metadata": {},
   "outputs": [],
   "source": [
    "# rename images\n",
    "# try the diferent options\n",
    "gap.img_rename(text='test')# text=True text='test'"
   ]
  },
  {
   "cell_type": "code",
   "execution_count": null,
   "metadata": {},
   "outputs": [],
   "source": [
    "# new images names in the label roses\n",
    "%ls flower_photos_t2_spl/train_tr/roses/"
   ]
  },
  {
   "cell_type": "code",
   "execution_count": null,
   "metadata": {},
   "outputs": [],
   "source": [
    "gap.img_replace(old='st', new='sted', img_id=True)"
   ]
  },
  {
   "cell_type": "code",
   "execution_count": null,
   "metadata": {
    "scrolled": true
   },
   "outputs": [],
   "source": [
    "# new images names in the label roses\n",
    "%ls flower_photos_t2_spl/train_tr/roses/"
   ]
  },
  {
   "cell_type": "markdown",
   "metadata": {},
   "source": [
    "### Delete samples"
   ]
  },
  {
   "cell_type": "code",
   "execution_count": null,
   "metadata": {},
   "outputs": [],
   "source": [
    "gap = ImgUtils(root_path='flower_photos_spl', remove_folder=True)"
   ]
  },
  {
   "cell_type": "code",
   "execution_count": null,
   "metadata": {},
   "outputs": [],
   "source": [
    "gap = ImgUtils(root_path='flower_photos_t2_spl', remove_folder=True)"
   ]
  },
  {
   "cell_type": "code",
   "execution_count": null,
   "metadata": {},
   "outputs": [],
   "source": [
    "# current list directory contents \n",
    "%ls"
   ]
  },
  {
   "cell_type": "code",
   "execution_count": null,
   "metadata": {},
   "outputs": [],
   "source": []
  }
 ],
 "metadata": {
  "kernelspec": {
   "display_name": "Python 3",
   "language": "python",
   "name": "python3"
  },
  "language_info": {
   "codemirror_mode": {
    "name": "ipython",
    "version": 3
   },
   "file_extension": ".py",
   "mimetype": "text/x-python",
   "name": "python",
   "nbconvert_exporter": "python",
   "pygments_lexer": "ipython3",
   "version": "3.7.0"
  }
 },
 "nbformat": 4,
 "nbformat_minor": 2
}
